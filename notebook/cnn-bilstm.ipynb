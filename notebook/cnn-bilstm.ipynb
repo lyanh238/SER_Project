{
 "cells": [
  {
   "cell_type": "code",
   "execution_count": 1,
   "metadata": {
    "execution": {
     "iopub.execute_input": "2025-07-01T16:52:14.894539Z",
     "iopub.status.busy": "2025-07-01T16:52:14.894237Z",
     "iopub.status.idle": "2025-07-01T16:52:19.677598Z",
     "shell.execute_reply": "2025-07-01T16:52:19.676872Z",
     "shell.execute_reply.started": "2025-07-01T16:52:14.894516Z"
    },
    "trusted": true
   },
   "outputs": [
    {
     "name": "stdout",
     "output_type": "stream",
     "text": [
      "Using device: cuda\n",
      "Model will be saved to: /content/trained_model.pt\n",
      "\n",
      "Downloading datasets from Kaggle...\n",
      "EMO-DB downloaded to: /kaggle/input/berlin-database-of-emotional-speech-emodb\n",
      "RAVDESS downloaded to: /kaggle/input/ravdess-emotional-speech-audio\n",
      "TESS downloaded to: /kaggle/input/toronto-emotional-speech-set-tess\n",
      "\n",
      "Verifying dataset structures:\n",
      "EMO-DB contents: ['wav']\n",
      "RAVDESS contents: ['Actor_02', 'Actor_17', 'Actor_05', 'Actor_16', 'Actor_21', 'Actor_01', 'Actor_11', 'Actor_20', 'Actor_08', 'Actor_15', 'Actor_06', 'Actor_12', 'Actor_23', 'Actor_24', 'Actor_22', 'Actor_04', 'Actor_19', 'Actor_10', 'Actor_09', 'audio_speech_actors_01-24', 'Actor_14', 'Actor_03', 'Actor_13', 'Actor_18', 'Actor_07']\n",
      "TESS contents: ['TESS Toronto emotional speech set data', 'tess toronto emotional speech set data']\n"
     ]
    }
   ],
   "source": [
    "# 1. Cài đặt các thư viện cần thiết\n",
    "# !pip install torchaudio librosa soundfile scikit-learn matplotlib seaborn pandas tqdm gradio kagglehub\n",
    "\n",
    "# 2. Import các thư viện cơ bản\n",
    "import os\n",
    "import numpy as np\n",
    "import pandas as pd\n",
    "import librosa\n",
    "import librosa.display\n",
    "import soundfile as sf\n",
    "import matplotlib.pyplot as plt\n",
    "import seaborn as sns\n",
    "from tqdm.notebook import tqdm # Dùng tqdm.notebook cho Colab\n",
    "import re # Dùng để xử lý tên file EMO-DB\n",
    "\n",
    "import torch\n",
    "import torch.nn as nn\n",
    "import torch.optim as optim\n",
    "from torch.utils.data import Dataset, DataLoader, WeightedRandomSampler\n",
    "\n",
    "from sklearn.model_selection import train_test_split\n",
    "from sklearn.preprocessing import StandardScaler\n",
    "from sklearn.metrics import accuracy_score, f1_score, confusion_matrix\n",
    "import warnings\n",
    "\n",
    "# Suppress warnings for cleaner output\n",
    "warnings.filterwarnings('ignore')\n",
    "\n",
    "# Cấu hình device\n",
    "device = torch.device(\"cuda\" if torch.cuda.is_available() else \"cpu\")\n",
    "print(f\"Using device: {device}\")\n",
    "\n",
    "# Định nghĩa đường dẫn lưu mô hình (sẽ lưu tạm thời trong /content/)\n",
    "MODEL_SAVE_PATH = '/content/trained_model.pt'\n",
    "print(f\"Model will be saved to: {MODEL_SAVE_PATH}\")\n",
    "\n",
    "# 3. Tải dữ liệu từ Kaggle sử dụng kagglehub\n",
    "import kagglehub\n",
    "\n",
    "print(\"\\nDownloading datasets from Kaggle...\")\n",
    "\n",
    "# Dataset 1: Berlin Emotional Database (EMO-DB)\n",
    "# kagglehub sẽ tự động tải và giải nén vào một thư mục cache, và trả về đường dẫn tới đó.\n",
    "emodb_path = kagglehub.dataset_download(\"piyushagni5/berlin-database-of-emotional-speech-emodb\")\n",
    "print(f\"EMO-DB downloaded to: {emodb_path}\")\n",
    "\n",
    "# Dataset 2: RAVDESS\n",
    "ravdess_path = kagglehub.dataset_download(\"uwrfkaggler/ravdess-emotional-speech-audio\")\n",
    "print(f\"RAVDESS downloaded to: {ravdess_path}\")\n",
    "\n",
    "# Dataset 3: TESS (Toronto Emotional Speech Set)\n",
    "tess_path = kagglehub.dataset_download(\"ejlok1/toronto-emotional-speech-set-tess\")\n",
    "print(f\"TESS downloaded to: {tess_path}\")\n",
    "\n",
    "# Kiểm tra cấu trúc thư mục của các dataset đã tải về\n",
    "print(\"\\nVerifying dataset structures:\")\n",
    "print(f\"EMO-DB contents: {os.listdir(emodb_path)}\")\n",
    "print(f\"RAVDESS contents: {os.listdir(ravdess_path)}\")\n",
    "print(f\"TESS contents: {os.listdir(tess_path)}\")\n",
    "\n"
   ]
  },
  {
   "cell_type": "code",
   "execution_count": null,
   "metadata": {
    "execution": {
     "iopub.execute_input": "2025-07-01T16:52:19.679438Z",
     "iopub.status.busy": "2025-07-01T16:52:19.679027Z",
     "iopub.status.idle": "2025-07-01T16:56:01.591617Z",
     "shell.execute_reply": "2025-07-01T16:56:01.590947Z",
     "shell.execute_reply.started": "2025-07-01T16:52:19.679418Z"
    },
    "trusted": true
   },
   "outputs": [
    {
     "data": {
      "application/vnd.jupyter.widget-view+json": {
       "model_id": "eaf79a8463924a08b85729b8ff736e80",
       "version_major": 2,
       "version_minor": 0
      },
      "text/plain": [
       "Processing RAVDESS:   0%|          | 0/25 [00:00<?, ?it/s]"
      ]
     },
     "metadata": {},
     "output_type": "display_data"
    },
    {
     "data": {
      "application/vnd.jupyter.widget-view+json": {
       "model_id": "ec85f2de794d47048d6a3e89cb7081ab",
       "version_major": 2,
       "version_minor": 0
      },
      "text/plain": [
       "Processing EMO-DB:   0%|          | 0/535 [00:00<?, ?it/s]"
      ]
     },
     "metadata": {},
     "output_type": "display_data"
    },
    {
     "data": {
      "application/vnd.jupyter.widget-view+json": {
       "model_id": "325bd3928a9d4f37bab79e6781992716",
       "version_major": 2,
       "version_minor": 0
      },
      "text/plain": [
       "Processing TESS:   0%|          | 0/14 [00:00<?, ?it/s]"
      ]
     },
     "metadata": {},
     "output_type": "display_data"
    },
    {
     "name": "stdout",
     "output_type": "stream",
     "text": [
      "Total audio files found: 3648\n",
      "Emotion distribution:\n",
      " emotion\n",
      "disgust      592\n",
      "sad          592\n",
      "fearful      592\n",
      "happy        592\n",
      "angry        592\n",
      "neutral      496\n",
      "surprised    192\n",
      "Name: count, dtype: int64\n",
      "\n",
      "Emotion to integer mapping: {'surprised': 0, 'neutral': 1, 'disgust': 2, 'fearful': 3, 'sad': 4, 'happy': 5, 'angry': 6}\n",
      "\n",
      "Train samples: 2553\n",
      "Validation samples: 547\n",
      "Test samples: 548\n",
      "\n",
      "Shape of extracted features for /kaggle/input/ravdess-emotional-speech-audio/Actor_02/03-01-08-01-01-01-02.wav: (173, 122)\n",
      "\n",
      "Fitting StandardScaler on training data...\n"
     ]
    },
    {
     "data": {
      "application/vnd.jupyter.widget-view+json": {
       "model_id": "d863f853ee674281894723ee63abb689",
       "version_major": 2,
       "version_minor": 0
      },
      "text/plain": [
       "Extracting features for scaler:   0%|          | 0/2553 [00:00<?, ?it/s]"
      ]
     },
     "metadata": {},
     "output_type": "display_data"
    },
    {
     "name": "stdout",
     "output_type": "stream",
     "text": [
      "StandardScaler fitted.\n",
      "\n",
      "Number of features (channels for CNN): 122\n",
      "Sequence length (time steps for CNN): 173\n",
      "\n",
      "Batch features shape: torch.Size([32, 1, 173, 122])\n",
      "Batch labels shape: torch.Size([32])\n"
     ]
    }
   ],
   "source": [
    "# 4. Phân tích cấu trúc dữ liệu và tạo DataFrame chung\n",
    "all_audio_files = []\n",
    "\n",
    "# --- RAVDESS Processing ---\n",
    "ravdess_emotion_map = {\n",
    "    '01': 'neutral', '02': 'calm', '03': 'happy', '04': 'sad',\n",
    "    '05': 'angry', '06': 'fearful', '07': 'disgust', '08': 'surprised'\n",
    "}\n",
    "ravdess_path = \"/kaggle/input/ravdess-emotional-speech-audio\"\n",
    "\n",
    "ravdess_base_path = ravdess_path\n",
    "for actor_dir in tqdm(os.listdir(ravdess_base_path), desc=\"Processing RAVDESS\"):\n",
    "    actor_path = os.path.join(ravdess_base_path, actor_dir)\n",
    "    if os.path.isdir(actor_path):\n",
    "        for filename in os.listdir(actor_path):\n",
    "            if filename.endswith('.wav'):\n",
    "                parts = filename.split('-')\n",
    "                emotion_code = parts[2]\n",
    "                emotion_name = ravdess_emotion_map.get(emotion_code)\n",
    "                if emotion_name:\n",
    "                    all_audio_files.append({\n",
    "                        'filepath': os.path.join(actor_path, filename),\n",
    "                        'emotion': emotion_name,\n",
    "                        'dataset': 'RAVDESS'\n",
    "                    })\n",
    "\n",
    "# --- EMO-DB Processing ---\n",
    "\n",
    "emodb_emotion_map = {\n",
    "    'a': 'angry', 'd': 'disgust', 'f': 'fearful', 'h': 'happy',\n",
    "    'n': 'neutral', 's': 'sad'\n",
    "}\n",
    "emodb_path = \"/kaggle/input/berlin-database-of-emotional-speech-emodb\"\n",
    "emodb_base_path = os.path.join(emodb_path, \"wav\")\n",
    "for filename in tqdm(os.listdir(emodb_base_path), desc=\"Processing EMO-DB\"):\n",
    "    if filename.endswith('.wav'):\n",
    "        # Extract emotion code from the 6th character (index 5)\n",
    "        # e.g., '03a01Fa.wav' -> 'a'\n",
    "        emotion_code = filename[5]\n",
    "        emotion_name = emodb_emotion_map.get(emotion_code)\n",
    "        if emotion_name:\n",
    "            all_audio_files.append({\n",
    "                'filepath': os.path.join(emodb_base_path, filename),\n",
    "                'emotion': emotion_name,\n",
    "                'dataset': 'EMO-DB'\n",
    "            })\n",
    "\n",
    "# --- TESS Processing ---\n",
    "\n",
    "tess_path = \"/kaggle/input/toronto-emotional-speech-set-tess\"\n",
    "tess_base_path = os.path.join(tess_path, \"TESS Toronto emotional speech set data\")\n",
    "tess_emotion_map = {\n",
    "    'angry': 'angry', 'disgust': 'disgust', 'fear': 'fearful',\n",
    "    'happy': 'happy', 'neutral': 'neutral', 'ps': 'surprised', 'sad': 'sad' # 'ps' is pleased surprise\n",
    "}\n",
    "\n",
    "for emotion_dir in tqdm(os.listdir(tess_base_path), desc=\"Processing TESS\"):\n",
    "    # Clean emotion_dir name (e.g., OAF_angry -> angry)\n",
    "    emotion_key = emotion_dir.split('_')[-1].lower()\n",
    "    emotion_name = tess_emotion_map.get(emotion_key)\n",
    "\n",
    "    if emotion_name: # Only process if we have a valid emotion mapping\n",
    "        emotion_path = os.path.join(tess_base_path, emotion_dir)\n",
    "        if os.path.isdir(emotion_path):\n",
    "            for filename in os.listdir(emotion_path):\n",
    "                if filename.endswith('.wav'):\n",
    "                    all_audio_files.append({\n",
    "                        'filepath': os.path.join(emotion_path, filename),\n",
    "                        'emotion': emotion_name,\n",
    "                        'dataset': 'TESS'\n",
    "                    })\n",
    "\n",
    "df = pd.DataFrame(all_audio_files)\n",
    "\n",
    "# Lọc các cảm xúc mong muốn (có thể điều chỉnh)\n",
    "# Ví dụ: chỉ giữ happy, sad, angry, neutral, fearful, disgusted, surprised\n",
    "selected_emotions = ['happy', 'sad', 'angry', 'neutral', 'fearful', 'disgust', 'surprised']\n",
    "df = df[df['emotion'].isin(selected_emotions)].reset_index(drop=True)\n",
    "\n",
    "print(f\"Total audio files found: {len(df)}\")\n",
    "print(\"Emotion distribution:\\n\", df['emotion'].value_counts())\n",
    "\n",
    "# Mã hóa nhãn cảm xúc sang số nguyên\n",
    "label_to_int = {emotion: i for i, emotion in enumerate(df['emotion'].unique())}\n",
    "int_to_label = {i: emotion for emotion, i in label_to_int.items()}\n",
    "df['label'] = df['emotion'].map(label_to_int)\n",
    "\n",
    "print(\"\\nEmotion to integer mapping:\", label_to_int)\n",
    "\n",
    "# 5. Chia tập dữ liệu (Training, Validation, Test)\n",
    "# Sử dụng stratified split để đảm bảo phân phối cảm xúc đồng đều trong các tập\n",
    "X = df['filepath']\n",
    "y = df['label']\n",
    "\n",
    "X_train, X_temp, y_train, y_temp = train_test_split(X, y, test_size=0.3, random_state=42, stratify=y)\n",
    "X_val, X_test, y_val, y_test = train_test_split(X_temp, y_temp, test_size=0.5, random_state=42, stratify=y_temp) # Fix: Should be X_val, X_test, y_val, y_test\n",
    "\n",
    "train_df = pd.DataFrame({'filepath': X_train, 'label': y_train})\n",
    "val_df = pd.DataFrame({'filepath': X_val, 'label': y_val})\n",
    "test_df = pd.DataFrame({'filepath': X_test, 'label': y_test}) # Fix: Use y_test here\n",
    "\n",
    "print(f\"\\nTrain samples: {len(train_df)}\")\n",
    "print(f\"Validation samples: {len(val_df)}\")\n",
    "print(f\"Test samples: {len(test_df)}\")\n",
    "\n",
    "# 6. Định nghĩa hàm trích xuất đặc trưng\n",
    "# Tham số cố định cho trích xuất đặc trưng\n",
    "SR = 22050 # Sample rate\n",
    "N_MFCC = 40 # Số lượng MFCCs\n",
    "# Tính toán MAX_PAD_LENGTH dựa trên độ dài trung bình của các file âm thanh trong dataset tổng hợp\n",
    "# Hoặc giữ cố định một giá trị hợp lý (ví dụ ~4-5 giây âm thanh)\n",
    "# Với SR=22050, hop_length=512, 1 khung ~ 512/22050 = 0.023 giây.\n",
    "# 173 khung ~ 4 giây. Điều chỉnh nếu cần.\n",
    "MAX_PAD_LENGTH = 173\n",
    "\n",
    "def extract_features(audio_path, sr=SR, n_mfcc=N_MFCC, max_pad_length=MAX_PAD_LENGTH):\n",
    "    try:\n",
    "        y, sr = librosa.load(audio_path, sr=sr)\n",
    "    except Exception as e:\n",
    "        # print(f\"Error loading {audio_path}: {e}\") # Có thể bỏ comment để debug\n",
    "        return None\n",
    "\n",
    "    # Trích xuất MFCCs\n",
    "    mfccs = librosa.feature.mfcc(y=y, sr=sr, n_mfcc=n_mfcc)\n",
    "    mfccs_delta = librosa.feature.delta(mfccs)\n",
    "    mfccs_delta2 = librosa.feature.delta(mfccs, order=2)\n",
    "\n",
    "    rms = librosa.feature.rms(y=y)\n",
    "    zcr = librosa.feature.zero_crossing_rate(y=y)\n",
    "\n",
    "    features = np.vstack((mfccs, mfccs_delta, mfccs_delta2, rms, zcr))\n",
    "\n",
    "    if features.shape[1] < max_pad_length:\n",
    "        pad_width = max_pad_length - features.shape[1]\n",
    "        features = np.pad(features, pad_width=((0, 0), (0, pad_width)), mode='constant')\n",
    "    elif features.shape[1] > max_pad_length:\n",
    "        features = features[:, :max_pad_length]\n",
    "\n",
    "    return features.T # Return shape [time_steps, total_features]\n",
    "\n",
    "# Test hàm trích xuất\n",
    "test_audio_path = df.loc[0, 'filepath']\n",
    "test_features = extract_features(test_audio_path)\n",
    "if test_features is not None:\n",
    "    print(f\"\\nShape of extracted features for {test_audio_path}: {test_features.shape}\")\n",
    "    assert test_features.shape[1] == (N_MFCC * 3 + 2)\n",
    "    assert test_features.shape[0] == MAX_PAD_LENGTH\n",
    "else:\n",
    "    print(\"Feature extraction failed for test audio.\")\n",
    "\n",
    "# 7. Định nghĩa PyTorch Dataset (Không thay đổi)\n",
    "class SERDataset(Dataset):\n",
    "    def __init__(self, dataframe, scaler=None):\n",
    "        self.filepaths = dataframe['filepath'].values\n",
    "        self.labels = dataframe['label'].values\n",
    "        self.scaler = scaler\n",
    "\n",
    "    def __len__(self):\n",
    "        return len(self.filepaths)\n",
    "\n",
    "    def __getitem__(self, idx):\n",
    "        filepath = self.filepaths[idx]\n",
    "        label = self.labels[idx]\n",
    "\n",
    "        features = extract_features(filepath)\n",
    "\n",
    "        if features is None: # Handle cases where audio loading failed\n",
    "\n",
    "            print(f\"Warning: Skipping {filepath} due to feature extraction failure.\")\n",
    "            return torch.zeros((MAX_PAD_LENGTH, N_MFCC * 3 + 2), dtype=torch.float32), torch.tensor(0, dtype=torch.long)\n",
    "\n",
    "        if self.scaler:\n",
    "            features = self.scaler.transform(features)\n",
    "\n",
    "        features_tensor = torch.tensor(features, dtype=torch.float32)\n",
    "        features_tensor = features_tensor.unsqueeze(0) # Add channel dimension -> [1, time_steps, total_features]\n",
    "\n",
    "        return features_tensor, torch.tensor(label, dtype=torch.long)\n",
    "\n",
    "# 8. Huấn luyện StandardScaler trên tập huấn luyện để chuẩn hóa đặc trưng\n",
    "print(\"\\nFitting StandardScaler on training data...\")\n",
    "dummy_features_list = []\n",
    "# Filter out None values that might result from extract_features\n",
    "valid_train_filepaths = [fp for fp in train_df['filepath'] if extract_features(fp) is not None]\n",
    "\n",
    "for filepath in tqdm(valid_train_filepaths, desc=\"Extracting features for scaler\"):\n",
    "    features = extract_features(filepath)\n",
    "    dummy_features_list.append(features)\n",
    "\n",
    "all_train_features = np.vstack(dummy_features_list)\n",
    "scaler = StandardScaler()\n",
    "scaler.fit(all_train_features)\n",
    "print(\"StandardScaler fitted.\")\n",
    "\n",
    "# 9. Tạo các Dataset và DataLoader\n",
    "# Cần lọc lại các dataframe để loại bỏ các file bị lỗi nếu có\n",
    "train_df_filtered = train_df[train_df['filepath'].apply(lambda x: extract_features(x) is not None)].reset_index(drop=True)\n",
    "val_df_filtered = val_df[val_df['filepath'].apply(lambda x: extract_features(x) is not None)].reset_index(drop=True)\n",
    "test_df_filtered = test_df[test_df['filepath'].apply(lambda x: extract_features(x) is not None)].reset_index(drop=True)\n",
    "\n",
    "train_dataset = SERDataset(train_df_filtered, scaler)\n",
    "val_dataset = SERDataset(val_df_filtered, scaler)\n",
    "test_dataset = SERDataset(test_df_filtered, scaler)\n",
    "\n",
    "# Xử lý mất cân bằng lớp bằng WeightedRandomSampler\n",
    "class_counts = train_df_filtered['label'].value_counts().sort_index().values\n",
    "num_samples = len(train_df_filtered) # Use the actual number of samples in the filtered training set\n",
    "class_weights = num_samples / (len(label_to_int) * class_counts)\n",
    "weights_tensor = torch.tensor([class_weights[label] for label in train_df_filtered['label']], dtype=torch.double)\n",
    "sampler = WeightedRandomSampler(weights_tensor, num_samples=num_samples, replacement=True) # Use the calculated num_samples\n",
    "\n",
    "BATCH_SIZE = 32\n",
    "\n",
    "train_loader = DataLoader(train_dataset, batch_size=BATCH_SIZE, sampler=sampler, num_workers=2, pin_memory=True)\n",
    "val_loader = DataLoader(val_dataset, batch_size=BATCH_SIZE, shuffle=False, num_workers=2, pin_memory=True)\n",
    "test_loader = DataLoader(test_dataset, batch_size=BATCH_SIZE, shuffle=False, num_workers=2, pin_memory=True)\n",
    "\n",
    "print(f\"\\nNumber of features (channels for CNN): {N_MFCC * 3 + 2}\")\n",
    "print(f\"Sequence length (time steps for CNN): {MAX_PAD_LENGTH}\")\n",
    "\n",
    "for batch_features, batch_labels in train_loader:\n",
    "    print(f\"\\nBatch features shape: {batch_features.shape}\")\n",
    "    print(f\"Batch labels shape: {batch_labels.shape}\")\n",
    "    break"
   ]
  },
  {
   "cell_type": "code",
   "execution_count": 3,
   "metadata": {
    "execution": {
     "iopub.execute_input": "2025-07-01T16:56:01.593300Z",
     "iopub.status.busy": "2025-07-01T16:56:01.592754Z",
     "iopub.status.idle": "2025-07-01T16:56:03.820045Z",
     "shell.execute_reply": "2025-07-01T16:56:03.819319Z",
     "shell.execute_reply.started": "2025-07-01T16:56:01.593270Z"
    },
    "trusted": true
   },
   "outputs": [
    {
     "name": "stdout",
     "output_type": "stream",
     "text": [
      "Calculated LSTM input size: 1920\n",
      "Calculated LSTM sequence length: 43\n",
      "\n",
      "Model Architecture:\n",
      "CNNBiLSTM(\n",
      "  (conv1): Sequential(\n",
      "    (0): Conv2d(1, 32, kernel_size=(3, 3), stride=(1, 1), padding=(1, 1))\n",
      "    (1): ReLU()\n",
      "    (2): BatchNorm2d(32, eps=1e-05, momentum=0.1, affine=True, track_running_stats=True)\n",
      "    (3): MaxPool2d(kernel_size=(2, 2), stride=(2, 2), padding=0, dilation=1, ceil_mode=False)\n",
      "  )\n",
      "  (conv2): Sequential(\n",
      "    (0): Conv2d(32, 64, kernel_size=(3, 3), stride=(1, 1), padding=(1, 1))\n",
      "    (1): ReLU()\n",
      "    (2): BatchNorm2d(64, eps=1e-05, momentum=0.1, affine=True, track_running_stats=True)\n",
      "    (3): MaxPool2d(kernel_size=(2, 2), stride=(2, 2), padding=0, dilation=1, ceil_mode=False)\n",
      "  )\n",
      "  (lstm): LSTM(1920, 128, num_layers=2, batch_first=True, bidirectional=True)\n",
      "  (fc): Sequential(\n",
      "    (0): Linear(in_features=256, out_features=64, bias=True)\n",
      "    (1): ReLU()\n",
      "    (2): Dropout(p=0.5, inplace=False)\n",
      "    (3): Linear(in_features=64, out_features=7, bias=True)\n",
      "  )\n",
      ")\n",
      "\n",
      "Dummy output shape: torch.Size([32, 7])\n"
     ]
    }
   ],
   "source": [
    "# 10. Định nghĩa Mô hình CNN-BiLSTM\n",
    "class CNNBiLSTM(nn.Module):\n",
    "    def __init__(self, num_classes, total_features, max_pad_length):\n",
    "        super(CNNBiLSTM, self).__init__()\n",
    "\n",
    "        # CNN Layers để trích xuất đặc trưng không gian cục bộ\n",
    "        # Input: [batch_size, 1, time_steps, total_features]\n",
    "        self.conv1 = nn.Sequential(\n",
    "            nn.Conv2d(in_channels=1, out_channels=32, kernel_size=(3, 3), padding=1),\n",
    "            nn.ReLU(),\n",
    "            nn.BatchNorm2d(32),\n",
    "            nn.MaxPool2d(kernel_size=(2, 2), stride=(2, 2))\n",
    "        )\n",
    "\n",
    "        self.conv2 = nn.Sequential(\n",
    "            nn.Conv2d(in_channels=32, out_channels=64, kernel_size=(3, 3), padding=1),\n",
    "            nn.ReLU(),\n",
    "            nn.BatchNorm2d(64),\n",
    "            nn.MaxPool2d(kernel_size=(2, 2), stride=(2, 2))\n",
    "        )\n",
    "\n",
    "        # Tính toán kích thước output của CNN để đưa vào BiLSTM\n",
    "        with torch.no_grad():\n",
    "            dummy_input = torch.randn(1, 1, max_pad_length, total_features) # [batch, channels, time_steps, features]\n",
    "            dummy_output = self.conv1(dummy_input)\n",
    "            dummy_output = self.conv2(dummy_output)\n",
    "\n",
    "            self.lstm_input_size = dummy_output.shape[1] * dummy_output.shape[3] # 64 * W_out\n",
    "            self.lstm_sequence_length = dummy_output.shape[2] # H_out (time dimension)\n",
    "\n",
    "            print(f\"Calculated LSTM input size: {self.lstm_input_size}\")\n",
    "            print(f\"Calculated LSTM sequence length: {self.lstm_sequence_length}\")\n",
    "\n",
    "        # BiLSTM Layers để học thông tin tuần tự\n",
    "        self.lstm = nn.LSTM(\n",
    "            input_size=self.lstm_input_size,\n",
    "            hidden_size=128,\n",
    "            num_layers=2,\n",
    "            batch_first=True,\n",
    "            bidirectional=True\n",
    "        )\n",
    "\n",
    "        # Fully Connected Layers\n",
    "        self.fc = nn.Sequential(\n",
    "            nn.Linear(self.lstm.hidden_size * 2, 64),\n",
    "            nn.ReLU(),\n",
    "            nn.Dropout(0.5),\n",
    "            nn.Linear(64, num_classes)\n",
    "        )\n",
    "\n",
    "    def forward(self, x):\n",
    "        # x shape: [batch_size, 1, MAX_PAD_LENGTH, total_features]\n",
    "\n",
    "        # CNN layers\n",
    "        x = self.conv1(x)\n",
    "        x = self.conv2(x)\n",
    "        # Output x shape: [batch_size, 64, H_out, W_out]\n",
    "\n",
    "        # Reshape for BiLSTM: treat H_out as sequence length, and 64 * W_out as input_size for LSTM\n",
    "        x = x.permute(0, 2, 1, 3).contiguous() # -> [batch_size, H_out, 64, W_out]\n",
    "        x = x.view(x.size(0), x.size(1), -1) # -> [batch_size, H_out, 64 * W_out]\n",
    "\n",
    "        # BiLSTM layers\n",
    "        lstm_out, _ = self.lstm(x) # lstm_out shape: [batch_size, H_out, hidden_size * 2]\n",
    "\n",
    "        # Average pooling across the sequence length for classification\n",
    "        x = torch.mean(lstm_out, dim=1) # -> [batch_size, hidden_size * 2]\n",
    "\n",
    "        # Fully connected layers\n",
    "        logits = self.fc(x)\n",
    "        return logits\n",
    "\n",
    "# Khởi tạo mô hình\n",
    "num_classes = len(label_to_int)\n",
    "total_features = N_MFCC * 3 + 2\n",
    "model = CNNBiLSTM(num_classes, total_features, MAX_PAD_LENGTH).to(device)\n",
    "print(\"\\nModel Architecture:\")\n",
    "print(model)\n",
    "\n",
    "# Kiểm tra một lượt forward pass\n",
    "dummy_input = torch.randn(BATCH_SIZE, 1, MAX_PAD_LENGTH, total_features).to(device)\n",
    "dummy_output = model(dummy_input)\n",
    "print(f\"\\nDummy output shape: {dummy_output.shape}\")\n",
    "assert dummy_output.shape[1] == num_classes"
   ]
  },
  {
   "cell_type": "code",
   "execution_count": 4,
   "metadata": {
    "execution": {
     "iopub.execute_input": "2025-07-01T16:56:03.822155Z",
     "iopub.status.busy": "2025-07-01T16:56:03.821854Z",
     "iopub.status.idle": "2025-07-01T17:19:37.335876Z",
     "shell.execute_reply": "2025-07-01T17:19:37.335023Z",
     "shell.execute_reply.started": "2025-07-01T16:56:03.822134Z"
    },
    "trusted": true
   },
   "outputs": [
    {
     "name": "stdout",
     "output_type": "stream",
     "text": [
      "\n",
      "Starting training...\n"
     ]
    },
    {
     "data": {
      "application/vnd.jupyter.widget-view+json": {
       "model_id": "90196c314bb74204b7e86d116fc4448a",
       "version_major": 2,
       "version_minor": 0
      },
      "text/plain": [
       "Epoch 1 Training:   0%|          | 0/80 [00:00<?, ?it/s]"
      ]
     },
     "metadata": {},
     "output_type": "display_data"
    },
    {
     "data": {
      "application/vnd.jupyter.widget-view+json": {
       "model_id": "61814b30146949dd9023bf6d1e6e4968",
       "version_major": 2,
       "version_minor": 0
      },
      "text/plain": [
       "Epoch 1 Validation:   0%|          | 0/18 [00:00<?, ?it/s]"
      ]
     },
     "metadata": {},
     "output_type": "display_data"
    },
    {
     "name": "stdout",
     "output_type": "stream",
     "text": [
      "Epoch [1/50] Train Loss: 1.2350, Train Acc: 0.5742, Train F1: 0.5653 | Val Loss: 0.6880, Val Acc: 0.7441, Val F1: 0.7242\n",
      "Saved best model with F1: 0.7242\n"
     ]
    },
    {
     "data": {
      "application/vnd.jupyter.widget-view+json": {
       "model_id": "cf8c7effd78e4b068113b09421ff9be8",
       "version_major": 2,
       "version_minor": 0
      },
      "text/plain": [
       "Epoch 2 Training:   0%|          | 0/80 [00:00<?, ?it/s]"
      ]
     },
     "metadata": {},
     "output_type": "display_data"
    },
    {
     "data": {
      "application/vnd.jupyter.widget-view+json": {
       "model_id": "9537aef4f38340a3b3621f9022db7b13",
       "version_major": 2,
       "version_minor": 0
      },
      "text/plain": [
       "Epoch 2 Validation:   0%|          | 0/18 [00:00<?, ?it/s]"
      ]
     },
     "metadata": {},
     "output_type": "display_data"
    },
    {
     "name": "stdout",
     "output_type": "stream",
     "text": [
      "Epoch [2/50] Train Loss: 0.6904, Train Acc: 0.7693, Train F1: 0.7722 | Val Loss: 0.5270, Val Acc: 0.7989, Val F1: 0.7853\n",
      "Saved best model with F1: 0.7853\n"
     ]
    },
    {
     "data": {
      "application/vnd.jupyter.widget-view+json": {
       "model_id": "09737f084b3f456997e6ad1191004da1",
       "version_major": 2,
       "version_minor": 0
      },
      "text/plain": [
       "Epoch 3 Training:   0%|          | 0/80 [00:00<?, ?it/s]"
      ]
     },
     "metadata": {},
     "output_type": "display_data"
    },
    {
     "data": {
      "application/vnd.jupyter.widget-view+json": {
       "model_id": "cd74e121747e4c988990b2c7d47b6c83",
       "version_major": 2,
       "version_minor": 0
      },
      "text/plain": [
       "Epoch 3 Validation:   0%|          | 0/18 [00:00<?, ?it/s]"
      ]
     },
     "metadata": {},
     "output_type": "display_data"
    },
    {
     "name": "stdout",
     "output_type": "stream",
     "text": [
      "Epoch [3/50] Train Loss: 0.4852, Train Acc: 0.8382, Train F1: 0.8381 | Val Loss: 0.5726, Val Acc: 0.7678, Val F1: 0.7526\n"
     ]
    },
    {
     "data": {
      "application/vnd.jupyter.widget-view+json": {
       "model_id": "f5512470e6c24833bb5a7de244afc87f",
       "version_major": 2,
       "version_minor": 0
      },
      "text/plain": [
       "Epoch 4 Training:   0%|          | 0/80 [00:00<?, ?it/s]"
      ]
     },
     "metadata": {},
     "output_type": "display_data"
    },
    {
     "data": {
      "application/vnd.jupyter.widget-view+json": {
       "model_id": "88933eb210a340f0bbde53e031c7c967",
       "version_major": 2,
       "version_minor": 0
      },
      "text/plain": [
       "Epoch 4 Validation:   0%|          | 0/18 [00:00<?, ?it/s]"
      ]
     },
     "metadata": {},
     "output_type": "display_data"
    },
    {
     "name": "stdout",
     "output_type": "stream",
     "text": [
      "Epoch [4/50] Train Loss: 0.4436, Train Acc: 0.8543, Train F1: 0.8543 | Val Loss: 0.4398, Val Acc: 0.8300, Val F1: 0.8186\n",
      "Saved best model with F1: 0.8186\n"
     ]
    },
    {
     "data": {
      "application/vnd.jupyter.widget-view+json": {
       "model_id": "282ddf374ece4bb18cad44282d3c230d",
       "version_major": 2,
       "version_minor": 0
      },
      "text/plain": [
       "Epoch 5 Training:   0%|          | 0/80 [00:00<?, ?it/s]"
      ]
     },
     "metadata": {},
     "output_type": "display_data"
    },
    {
     "data": {
      "application/vnd.jupyter.widget-view+json": {
       "model_id": "c574c4ce5c15489abe554f7d644d78b3",
       "version_major": 2,
       "version_minor": 0
      },
      "text/plain": [
       "Epoch 5 Validation:   0%|          | 0/18 [00:00<?, ?it/s]"
      ]
     },
     "metadata": {},
     "output_type": "display_data"
    },
    {
     "name": "stdout",
     "output_type": "stream",
     "text": [
      "Epoch [5/50] Train Loss: 0.3515, Train Acc: 0.8821, Train F1: 0.8823 | Val Loss: 0.4200, Val Acc: 0.8501, Val F1: 0.8416\n",
      "Saved best model with F1: 0.8416\n"
     ]
    },
    {
     "data": {
      "application/vnd.jupyter.widget-view+json": {
       "model_id": "009457bc21fe4e31a9e268198911d4b5",
       "version_major": 2,
       "version_minor": 0
      },
      "text/plain": [
       "Epoch 6 Training:   0%|          | 0/80 [00:00<?, ?it/s]"
      ]
     },
     "metadata": {},
     "output_type": "display_data"
    },
    {
     "data": {
      "application/vnd.jupyter.widget-view+json": {
       "model_id": "0bebe2ca8a4748f0b31066bc7b3f49cb",
       "version_major": 2,
       "version_minor": 0
      },
      "text/plain": [
       "Epoch 6 Validation:   0%|          | 0/18 [00:00<?, ?it/s]"
      ]
     },
     "metadata": {},
     "output_type": "display_data"
    },
    {
     "name": "stdout",
     "output_type": "stream",
     "text": [
      "Epoch [6/50] Train Loss: 0.2877, Train Acc: 0.9040, Train F1: 0.9022 | Val Loss: 0.4239, Val Acc: 0.8428, Val F1: 0.8278\n"
     ]
    },
    {
     "data": {
      "application/vnd.jupyter.widget-view+json": {
       "model_id": "148af5d1c7614c9ea1a49551b2101fbb",
       "version_major": 2,
       "version_minor": 0
      },
      "text/plain": [
       "Epoch 7 Training:   0%|          | 0/80 [00:00<?, ?it/s]"
      ]
     },
     "metadata": {},
     "output_type": "display_data"
    },
    {
     "data": {
      "application/vnd.jupyter.widget-view+json": {
       "model_id": "c9d01eadc80e412a998b0e7d2c045910",
       "version_major": 2,
       "version_minor": 0
      },
      "text/plain": [
       "Epoch 7 Validation:   0%|          | 0/18 [00:00<?, ?it/s]"
      ]
     },
     "metadata": {},
     "output_type": "display_data"
    },
    {
     "name": "stdout",
     "output_type": "stream",
     "text": [
      "Epoch [7/50] Train Loss: 0.2586, Train Acc: 0.9115, Train F1: 0.9113 | Val Loss: 0.3770, Val Acc: 0.8647, Val F1: 0.8580\n",
      "Saved best model with F1: 0.8580\n"
     ]
    },
    {
     "data": {
      "application/vnd.jupyter.widget-view+json": {
       "model_id": "6b19c6d9fab94712a4a54e911cdbf63e",
       "version_major": 2,
       "version_minor": 0
      },
      "text/plain": [
       "Epoch 8 Training:   0%|          | 0/80 [00:00<?, ?it/s]"
      ]
     },
     "metadata": {},
     "output_type": "display_data"
    },
    {
     "data": {
      "application/vnd.jupyter.widget-view+json": {
       "model_id": "f580c1374ce94d2881a6081c96c69a13",
       "version_major": 2,
       "version_minor": 0
      },
      "text/plain": [
       "Epoch 8 Validation:   0%|          | 0/18 [00:00<?, ?it/s]"
      ]
     },
     "metadata": {},
     "output_type": "display_data"
    },
    {
     "name": "stdout",
     "output_type": "stream",
     "text": [
      "Epoch [8/50] Train Loss: 0.2188, Train Acc: 0.9315, Train F1: 0.9316 | Val Loss: 0.3801, Val Acc: 0.8720, Val F1: 0.8623\n",
      "Saved best model with F1: 0.8623\n"
     ]
    },
    {
     "data": {
      "application/vnd.jupyter.widget-view+json": {
       "model_id": "67233c7bf130463d8f38189310de70a7",
       "version_major": 2,
       "version_minor": 0
      },
      "text/plain": [
       "Epoch 9 Training:   0%|          | 0/80 [00:00<?, ?it/s]"
      ]
     },
     "metadata": {},
     "output_type": "display_data"
    },
    {
     "data": {
      "application/vnd.jupyter.widget-view+json": {
       "model_id": "4ff5d9be61bc4181982ffb696046bac3",
       "version_major": 2,
       "version_minor": 0
      },
      "text/plain": [
       "Epoch 9 Validation:   0%|          | 0/18 [00:00<?, ?it/s]"
      ]
     },
     "metadata": {},
     "output_type": "display_data"
    },
    {
     "name": "stdout",
     "output_type": "stream",
     "text": [
      "Epoch [9/50] Train Loss: 0.1919, Train Acc: 0.9448, Train F1: 0.9444 | Val Loss: 0.4120, Val Acc: 0.8665, Val F1: 0.8422\n"
     ]
    },
    {
     "data": {
      "application/vnd.jupyter.widget-view+json": {
       "model_id": "b7d4108ba9054918a5d873329b11c8ac",
       "version_major": 2,
       "version_minor": 0
      },
      "text/plain": [
       "Epoch 10 Training:   0%|          | 0/80 [00:00<?, ?it/s]"
      ]
     },
     "metadata": {},
     "output_type": "display_data"
    },
    {
     "data": {
      "application/vnd.jupyter.widget-view+json": {
       "model_id": "de131bef0326493e90e5ade96d7a2281",
       "version_major": 2,
       "version_minor": 0
      },
      "text/plain": [
       "Epoch 10 Validation:   0%|          | 0/18 [00:00<?, ?it/s]"
      ]
     },
     "metadata": {},
     "output_type": "display_data"
    },
    {
     "name": "stdout",
     "output_type": "stream",
     "text": [
      "Epoch [10/50] Train Loss: 0.1357, Train Acc: 0.9597, Train F1: 0.9593 | Val Loss: 0.3583, Val Acc: 0.8684, Val F1: 0.8518\n"
     ]
    },
    {
     "data": {
      "application/vnd.jupyter.widget-view+json": {
       "model_id": "eae7a4956d2f4dcb98e3123fa7e99bd8",
       "version_major": 2,
       "version_minor": 0
      },
      "text/plain": [
       "Epoch 11 Training:   0%|          | 0/80 [00:00<?, ?it/s]"
      ]
     },
     "metadata": {},
     "output_type": "display_data"
    },
    {
     "data": {
      "application/vnd.jupyter.widget-view+json": {
       "model_id": "ea4563a568b94bd599a5c4274669bd25",
       "version_major": 2,
       "version_minor": 0
      },
      "text/plain": [
       "Epoch 11 Validation:   0%|          | 0/18 [00:00<?, ?it/s]"
      ]
     },
     "metadata": {},
     "output_type": "display_data"
    },
    {
     "name": "stdout",
     "output_type": "stream",
     "text": [
      "Epoch [11/50] Train Loss: 0.1398, Train Acc: 0.9593, Train F1: 0.9585 | Val Loss: 0.3229, Val Acc: 0.9049, Val F1: 0.9012\n",
      "Saved best model with F1: 0.9012\n"
     ]
    },
    {
     "data": {
      "application/vnd.jupyter.widget-view+json": {
       "model_id": "afccd4b4acf049b09706e3fd34bc7ca2",
       "version_major": 2,
       "version_minor": 0
      },
      "text/plain": [
       "Epoch 12 Training:   0%|          | 0/80 [00:00<?, ?it/s]"
      ]
     },
     "metadata": {},
     "output_type": "display_data"
    },
    {
     "data": {
      "application/vnd.jupyter.widget-view+json": {
       "model_id": "d8dfb9e7598d432d85b1e21465492c97",
       "version_major": 2,
       "version_minor": 0
      },
      "text/plain": [
       "Epoch 12 Validation:   0%|          | 0/18 [00:00<?, ?it/s]"
      ]
     },
     "metadata": {},
     "output_type": "display_data"
    },
    {
     "name": "stdout",
     "output_type": "stream",
     "text": [
      "Epoch [12/50] Train Loss: 0.1162, Train Acc: 0.9636, Train F1: 0.9633 | Val Loss: 0.2840, Val Acc: 0.8921, Val F1: 0.8863\n"
     ]
    },
    {
     "data": {
      "application/vnd.jupyter.widget-view+json": {
       "model_id": "7e5b6bfd9f7842dda0e002b5d6bcaf64",
       "version_major": 2,
       "version_minor": 0
      },
      "text/plain": [
       "Epoch 13 Training:   0%|          | 0/80 [00:00<?, ?it/s]"
      ]
     },
     "metadata": {},
     "output_type": "display_data"
    },
    {
     "data": {
      "application/vnd.jupyter.widget-view+json": {
       "model_id": "b639ebe38d7d48ce9059bd33c41e095b",
       "version_major": 2,
       "version_minor": 0
      },
      "text/plain": [
       "Epoch 13 Validation:   0%|          | 0/18 [00:00<?, ?it/s]"
      ]
     },
     "metadata": {},
     "output_type": "display_data"
    },
    {
     "name": "stdout",
     "output_type": "stream",
     "text": [
      "Epoch [13/50] Train Loss: 0.1183, Train Acc: 0.9663, Train F1: 0.9661 | Val Loss: 0.3258, Val Acc: 0.8812, Val F1: 0.8790\n"
     ]
    },
    {
     "data": {
      "application/vnd.jupyter.widget-view+json": {
       "model_id": "ac0045fa425f42298f80eb7b3fccdafd",
       "version_major": 2,
       "version_minor": 0
      },
      "text/plain": [
       "Epoch 14 Training:   0%|          | 0/80 [00:00<?, ?it/s]"
      ]
     },
     "metadata": {},
     "output_type": "display_data"
    },
    {
     "data": {
      "application/vnd.jupyter.widget-view+json": {
       "model_id": "109869f489fe40919166726b8c377b8a",
       "version_major": 2,
       "version_minor": 0
      },
      "text/plain": [
       "Epoch 14 Validation:   0%|          | 0/18 [00:00<?, ?it/s]"
      ]
     },
     "metadata": {},
     "output_type": "display_data"
    },
    {
     "name": "stdout",
     "output_type": "stream",
     "text": [
      "Epoch [14/50] Train Loss: 0.0910, Train Acc: 0.9730, Train F1: 0.9729 | Val Loss: 0.3885, Val Acc: 0.8775, Val F1: 0.8650\n"
     ]
    },
    {
     "data": {
      "application/vnd.jupyter.widget-view+json": {
       "model_id": "e194e050147a4620acd0f386698b7597",
       "version_major": 2,
       "version_minor": 0
      },
      "text/plain": [
       "Epoch 15 Training:   0%|          | 0/80 [00:00<?, ?it/s]"
      ]
     },
     "metadata": {},
     "output_type": "display_data"
    },
    {
     "data": {
      "application/vnd.jupyter.widget-view+json": {
       "model_id": "5f837b1c998d4799ae55b1f0fdd022f8",
       "version_major": 2,
       "version_minor": 0
      },
      "text/plain": [
       "Epoch 15 Validation:   0%|          | 0/18 [00:00<?, ?it/s]"
      ]
     },
     "metadata": {},
     "output_type": "display_data"
    },
    {
     "name": "stdout",
     "output_type": "stream",
     "text": [
      "Epoch [15/50] Train Loss: 0.0777, Train Acc: 0.9773, Train F1: 0.9772 | Val Loss: 0.4612, Val Acc: 0.8684, Val F1: 0.8625\n"
     ]
    },
    {
     "data": {
      "application/vnd.jupyter.widget-view+json": {
       "model_id": "b27688d454a14df7b591cb22610fa122",
       "version_major": 2,
       "version_minor": 0
      },
      "text/plain": [
       "Epoch 16 Training:   0%|          | 0/80 [00:00<?, ?it/s]"
      ]
     },
     "metadata": {},
     "output_type": "display_data"
    },
    {
     "data": {
      "application/vnd.jupyter.widget-view+json": {
       "model_id": "2fda4c2423d34046abb110756e9d8444",
       "version_major": 2,
       "version_minor": 0
      },
      "text/plain": [
       "Epoch 16 Validation:   0%|          | 0/18 [00:00<?, ?it/s]"
      ]
     },
     "metadata": {},
     "output_type": "display_data"
    },
    {
     "name": "stdout",
     "output_type": "stream",
     "text": [
      "Epoch [16/50] Train Loss: 0.0565, Train Acc: 0.9839, Train F1: 0.9841 | Val Loss: 0.4004, Val Acc: 0.8995, Val F1: 0.8964\n"
     ]
    },
    {
     "data": {
      "application/vnd.jupyter.widget-view+json": {
       "model_id": "afae9b82d1f54f38bd473b0714518ee7",
       "version_major": 2,
       "version_minor": 0
      },
      "text/plain": [
       "Epoch 17 Training:   0%|          | 0/80 [00:00<?, ?it/s]"
      ]
     },
     "metadata": {},
     "output_type": "display_data"
    },
    {
     "data": {
      "application/vnd.jupyter.widget-view+json": {
       "model_id": "fbfbbdda9aed42b28f6b2b78414bfb8c",
       "version_major": 2,
       "version_minor": 0
      },
      "text/plain": [
       "Epoch 17 Validation:   0%|          | 0/18 [00:00<?, ?it/s]"
      ]
     },
     "metadata": {},
     "output_type": "display_data"
    },
    {
     "name": "stdout",
     "output_type": "stream",
     "text": [
      "Epoch [17/50] Train Loss: 0.1259, Train Acc: 0.9640, Train F1: 0.9642 | Val Loss: 0.4931, Val Acc: 0.8355, Val F1: 0.8268\n"
     ]
    },
    {
     "data": {
      "application/vnd.jupyter.widget-view+json": {
       "model_id": "0f191733bacd4d449ef2b0d884019aff",
       "version_major": 2,
       "version_minor": 0
      },
      "text/plain": [
       "Epoch 18 Training:   0%|          | 0/80 [00:00<?, ?it/s]"
      ]
     },
     "metadata": {},
     "output_type": "display_data"
    },
    {
     "data": {
      "application/vnd.jupyter.widget-view+json": {
       "model_id": "7af3322fbde340ad9dad6316d068f3c0",
       "version_major": 2,
       "version_minor": 0
      },
      "text/plain": [
       "Epoch 18 Validation:   0%|          | 0/18 [00:00<?, ?it/s]"
      ]
     },
     "metadata": {},
     "output_type": "display_data"
    },
    {
     "name": "stdout",
     "output_type": "stream",
     "text": [
      "Epoch [18/50] Train Loss: 0.1112, Train Acc: 0.9718, Train F1: 0.9715 | Val Loss: 0.2814, Val Acc: 0.9086, Val F1: 0.9019\n",
      "Saved best model with F1: 0.9019\n"
     ]
    },
    {
     "data": {
      "application/vnd.jupyter.widget-view+json": {
       "model_id": "20a9cd3eca534aad861c77f016d50a77",
       "version_major": 2,
       "version_minor": 0
      },
      "text/plain": [
       "Epoch 19 Training:   0%|          | 0/80 [00:00<?, ?it/s]"
      ]
     },
     "metadata": {},
     "output_type": "display_data"
    },
    {
     "data": {
      "application/vnd.jupyter.widget-view+json": {
       "model_id": "f56db9903e12447790e2c06dee23bed3",
       "version_major": 2,
       "version_minor": 0
      },
      "text/plain": [
       "Epoch 19 Validation:   0%|          | 0/18 [00:00<?, ?it/s]"
      ]
     },
     "metadata": {},
     "output_type": "display_data"
    },
    {
     "name": "stdout",
     "output_type": "stream",
     "text": [
      "Epoch [19/50] Train Loss: 0.0381, Train Acc: 0.9918, Train F1: 0.9920 | Val Loss: 0.3235, Val Acc: 0.9122, Val F1: 0.9087\n",
      "Saved best model with F1: 0.9087\n"
     ]
    },
    {
     "data": {
      "application/vnd.jupyter.widget-view+json": {
       "model_id": "34959eec0d9341f990887ad5fce2fe69",
       "version_major": 2,
       "version_minor": 0
      },
      "text/plain": [
       "Epoch 20 Training:   0%|          | 0/80 [00:00<?, ?it/s]"
      ]
     },
     "metadata": {},
     "output_type": "display_data"
    },
    {
     "data": {
      "application/vnd.jupyter.widget-view+json": {
       "model_id": "bc61ea6c34d74a1db534563b53de90a7",
       "version_major": 2,
       "version_minor": 0
      },
      "text/plain": [
       "Epoch 20 Validation:   0%|          | 0/18 [00:00<?, ?it/s]"
      ]
     },
     "metadata": {},
     "output_type": "display_data"
    },
    {
     "name": "stdout",
     "output_type": "stream",
     "text": [
      "Epoch [20/50] Train Loss: 0.0146, Train Acc: 0.9976, Train F1: 0.9976 | Val Loss: 0.3832, Val Acc: 0.9068, Val F1: 0.9025\n"
     ]
    },
    {
     "data": {
      "application/vnd.jupyter.widget-view+json": {
       "model_id": "69d6411a71a0480497d2aed3c400edf5",
       "version_major": 2,
       "version_minor": 0
      },
      "text/plain": [
       "Epoch 21 Training:   0%|          | 0/80 [00:00<?, ?it/s]"
      ]
     },
     "metadata": {},
     "output_type": "display_data"
    },
    {
     "data": {
      "application/vnd.jupyter.widget-view+json": {
       "model_id": "b17f2c42bca341b28076836bc806d83e",
       "version_major": 2,
       "version_minor": 0
      },
      "text/plain": [
       "Epoch 21 Validation:   0%|          | 0/18 [00:00<?, ?it/s]"
      ]
     },
     "metadata": {},
     "output_type": "display_data"
    },
    {
     "name": "stdout",
     "output_type": "stream",
     "text": [
      "Epoch [21/50] Train Loss: 0.0082, Train Acc: 0.9992, Train F1: 0.9992 | Val Loss: 0.3992, Val Acc: 0.9068, Val F1: 0.9033\n"
     ]
    },
    {
     "data": {
      "application/vnd.jupyter.widget-view+json": {
       "model_id": "52deb0f4bec74c34bebbc19c52634340",
       "version_major": 2,
       "version_minor": 0
      },
      "text/plain": [
       "Epoch 22 Training:   0%|          | 0/80 [00:00<?, ?it/s]"
      ]
     },
     "metadata": {},
     "output_type": "display_data"
    },
    {
     "data": {
      "application/vnd.jupyter.widget-view+json": {
       "model_id": "10774680c5204fc1a97d32ae3325071a",
       "version_major": 2,
       "version_minor": 0
      },
      "text/plain": [
       "Epoch 22 Validation:   0%|          | 0/18 [00:00<?, ?it/s]"
      ]
     },
     "metadata": {},
     "output_type": "display_data"
    },
    {
     "name": "stdout",
     "output_type": "stream",
     "text": [
      "Epoch [22/50] Train Loss: 0.0062, Train Acc: 0.9996, Train F1: 0.9996 | Val Loss: 0.4040, Val Acc: 0.9141, Val F1: 0.9106\n",
      "Saved best model with F1: 0.9106\n"
     ]
    },
    {
     "data": {
      "application/vnd.jupyter.widget-view+json": {
       "model_id": "b6e53a3dfafd422ca29665893e39256b",
       "version_major": 2,
       "version_minor": 0
      },
      "text/plain": [
       "Epoch 23 Training:   0%|          | 0/80 [00:00<?, ?it/s]"
      ]
     },
     "metadata": {},
     "output_type": "display_data"
    },
    {
     "data": {
      "application/vnd.jupyter.widget-view+json": {
       "model_id": "a2e2e59c6b844017879b2d25c31c7c5c",
       "version_major": 2,
       "version_minor": 0
      },
      "text/plain": [
       "Epoch 23 Validation:   0%|          | 0/18 [00:00<?, ?it/s]"
      ]
     },
     "metadata": {},
     "output_type": "display_data"
    },
    {
     "name": "stdout",
     "output_type": "stream",
     "text": [
      "Epoch [23/50] Train Loss: 0.0047, Train Acc: 0.9992, Train F1: 0.9992 | Val Loss: 0.4160, Val Acc: 0.9141, Val F1: 0.9103\n"
     ]
    },
    {
     "data": {
      "application/vnd.jupyter.widget-view+json": {
       "model_id": "6e2d929083d14a7ea79b58d3ae14ef63",
       "version_major": 2,
       "version_minor": 0
      },
      "text/plain": [
       "Epoch 24 Training:   0%|          | 0/80 [00:00<?, ?it/s]"
      ]
     },
     "metadata": {},
     "output_type": "display_data"
    },
    {
     "data": {
      "application/vnd.jupyter.widget-view+json": {
       "model_id": "cd08946e7051417c81cbae4c536483d2",
       "version_major": 2,
       "version_minor": 0
      },
      "text/plain": [
       "Epoch 24 Validation:   0%|          | 0/18 [00:00<?, ?it/s]"
      ]
     },
     "metadata": {},
     "output_type": "display_data"
    },
    {
     "name": "stdout",
     "output_type": "stream",
     "text": [
      "Epoch [24/50] Train Loss: 0.0029, Train Acc: 1.0000, Train F1: 1.0000 | Val Loss: 0.4366, Val Acc: 0.9104, Val F1: 0.9071\n"
     ]
    },
    {
     "data": {
      "application/vnd.jupyter.widget-view+json": {
       "model_id": "c03143d501194444bdf66f9a538694e0",
       "version_major": 2,
       "version_minor": 0
      },
      "text/plain": [
       "Epoch 25 Training:   0%|          | 0/80 [00:00<?, ?it/s]"
      ]
     },
     "metadata": {},
     "output_type": "display_data"
    },
    {
     "data": {
      "application/vnd.jupyter.widget-view+json": {
       "model_id": "bdd26b584fdc470a850d669de8018341",
       "version_major": 2,
       "version_minor": 0
      },
      "text/plain": [
       "Epoch 25 Validation:   0%|          | 0/18 [00:00<?, ?it/s]"
      ]
     },
     "metadata": {},
     "output_type": "display_data"
    },
    {
     "name": "stdout",
     "output_type": "stream",
     "text": [
      "Epoch [25/50] Train Loss: 0.0034, Train Acc: 1.0000, Train F1: 1.0000 | Val Loss: 0.4514, Val Acc: 0.9159, Val F1: 0.9098\n"
     ]
    },
    {
     "data": {
      "application/vnd.jupyter.widget-view+json": {
       "model_id": "e8ac1cb62b104ad9b0cdaeae8c2b9293",
       "version_major": 2,
       "version_minor": 0
      },
      "text/plain": [
       "Epoch 26 Training:   0%|          | 0/80 [00:00<?, ?it/s]"
      ]
     },
     "metadata": {},
     "output_type": "display_data"
    },
    {
     "data": {
      "application/vnd.jupyter.widget-view+json": {
       "model_id": "1f00604cb2294113b09a003197d75655",
       "version_major": 2,
       "version_minor": 0
      },
      "text/plain": [
       "Epoch 26 Validation:   0%|          | 0/18 [00:00<?, ?it/s]"
      ]
     },
     "metadata": {},
     "output_type": "display_data"
    },
    {
     "name": "stdout",
     "output_type": "stream",
     "text": [
      "Epoch [26/50] Train Loss: 0.0039, Train Acc: 0.9996, Train F1: 0.9996 | Val Loss: 0.4865, Val Acc: 0.9104, Val F1: 0.9056\n"
     ]
    },
    {
     "data": {
      "application/vnd.jupyter.widget-view+json": {
       "model_id": "132bd24ba7d64765913b17c3874fb798",
       "version_major": 2,
       "version_minor": 0
      },
      "text/plain": [
       "Epoch 27 Training:   0%|          | 0/80 [00:00<?, ?it/s]"
      ]
     },
     "metadata": {},
     "output_type": "display_data"
    },
    {
     "data": {
      "application/vnd.jupyter.widget-view+json": {
       "model_id": "be3a47ab102e48d8a6627da52707f29a",
       "version_major": 2,
       "version_minor": 0
      },
      "text/plain": [
       "Epoch 27 Validation:   0%|          | 0/18 [00:00<?, ?it/s]"
      ]
     },
     "metadata": {},
     "output_type": "display_data"
    },
    {
     "name": "stdout",
     "output_type": "stream",
     "text": [
      "Epoch [27/50] Train Loss: 0.0027, Train Acc: 0.9996, Train F1: 0.9996 | Val Loss: 0.4887, Val Acc: 0.9159, Val F1: 0.9101\n"
     ]
    },
    {
     "data": {
      "application/vnd.jupyter.widget-view+json": {
       "model_id": "4434f30ff1ae42c6b232654ccbcf3ee2",
       "version_major": 2,
       "version_minor": 0
      },
      "text/plain": [
       "Epoch 28 Training:   0%|          | 0/80 [00:00<?, ?it/s]"
      ]
     },
     "metadata": {},
     "output_type": "display_data"
    },
    {
     "data": {
      "application/vnd.jupyter.widget-view+json": {
       "model_id": "7d40044d55d142009a4ddd73a3ca776c",
       "version_major": 2,
       "version_minor": 0
      },
      "text/plain": [
       "Epoch 28 Validation:   0%|          | 0/18 [00:00<?, ?it/s]"
      ]
     },
     "metadata": {},
     "output_type": "display_data"
    },
    {
     "name": "stdout",
     "output_type": "stream",
     "text": [
      "Epoch [28/50] Train Loss: 0.0020, Train Acc: 1.0000, Train F1: 1.0000 | Val Loss: 0.5179, Val Acc: 0.9122, Val F1: 0.9087\n"
     ]
    },
    {
     "data": {
      "application/vnd.jupyter.widget-view+json": {
       "model_id": "d5070358abe242c98ff786ad68c16e3f",
       "version_major": 2,
       "version_minor": 0
      },
      "text/plain": [
       "Epoch 29 Training:   0%|          | 0/80 [00:00<?, ?it/s]"
      ]
     },
     "metadata": {},
     "output_type": "display_data"
    },
    {
     "data": {
      "application/vnd.jupyter.widget-view+json": {
       "model_id": "572a3a2c154a4d3ba581715b0c29f3ec",
       "version_major": 2,
       "version_minor": 0
      },
      "text/plain": [
       "Epoch 29 Validation:   0%|          | 0/18 [00:00<?, ?it/s]"
      ]
     },
     "metadata": {},
     "output_type": "display_data"
    },
    {
     "name": "stdout",
     "output_type": "stream",
     "text": [
      "Epoch [29/50] Train Loss: 0.0021, Train Acc: 1.0000, Train F1: 1.0000 | Val Loss: 0.5240, Val Acc: 0.9122, Val F1: 0.9072\n"
     ]
    },
    {
     "data": {
      "application/vnd.jupyter.widget-view+json": {
       "model_id": "3e79c850ad4949b5922c7df0e68a78e3",
       "version_major": 2,
       "version_minor": 0
      },
      "text/plain": [
       "Epoch 30 Training:   0%|          | 0/80 [00:00<?, ?it/s]"
      ]
     },
     "metadata": {},
     "output_type": "display_data"
    },
    {
     "data": {
      "application/vnd.jupyter.widget-view+json": {
       "model_id": "3a4564f071df480c88a051e1347333d1",
       "version_major": 2,
       "version_minor": 0
      },
      "text/plain": [
       "Epoch 30 Validation:   0%|          | 0/18 [00:00<?, ?it/s]"
      ]
     },
     "metadata": {},
     "output_type": "display_data"
    },
    {
     "name": "stdout",
     "output_type": "stream",
     "text": [
      "Epoch [30/50] Train Loss: 0.0025, Train Acc: 0.9996, Train F1: 0.9996 | Val Loss: 0.6403, Val Acc: 0.8885, Val F1: 0.8868\n"
     ]
    },
    {
     "data": {
      "application/vnd.jupyter.widget-view+json": {
       "model_id": "23849163a63c4a99a59855d3ac566ce8",
       "version_major": 2,
       "version_minor": 0
      },
      "text/plain": [
       "Epoch 31 Training:   0%|          | 0/80 [00:00<?, ?it/s]"
      ]
     },
     "metadata": {},
     "output_type": "display_data"
    },
    {
     "data": {
      "application/vnd.jupyter.widget-view+json": {
       "model_id": "a9fa71b7c950424e80ad6ef6ee82bf39",
       "version_major": 2,
       "version_minor": 0
      },
      "text/plain": [
       "Epoch 31 Validation:   0%|          | 0/18 [00:00<?, ?it/s]"
      ]
     },
     "metadata": {},
     "output_type": "display_data"
    },
    {
     "name": "stdout",
     "output_type": "stream",
     "text": [
      "Epoch [31/50] Train Loss: 0.0083, Train Acc: 0.9976, Train F1: 0.9976 | Val Loss: 0.6100, Val Acc: 0.8940, Val F1: 0.8892\n"
     ]
    },
    {
     "data": {
      "application/vnd.jupyter.widget-view+json": {
       "model_id": "a053aa3daba0410cb12d09860f45731a",
       "version_major": 2,
       "version_minor": 0
      },
      "text/plain": [
       "Epoch 32 Training:   0%|          | 0/80 [00:00<?, ?it/s]"
      ]
     },
     "metadata": {},
     "output_type": "display_data"
    },
    {
     "data": {
      "application/vnd.jupyter.widget-view+json": {
       "model_id": "d2af135ec79f466c9f930d50c668b7b4",
       "version_major": 2,
       "version_minor": 0
      },
      "text/plain": [
       "Epoch 32 Validation:   0%|          | 0/18 [00:00<?, ?it/s]"
      ]
     },
     "metadata": {},
     "output_type": "display_data"
    },
    {
     "name": "stdout",
     "output_type": "stream",
     "text": [
      "Epoch [32/50] Train Loss: 0.0035, Train Acc: 0.9996, Train F1: 0.9996 | Val Loss: 0.5388, Val Acc: 0.9013, Val F1: 0.8955\n"
     ]
    },
    {
     "data": {
      "application/vnd.jupyter.widget-view+json": {
       "model_id": "b3527d958367460f8ac9c66d41d87430",
       "version_major": 2,
       "version_minor": 0
      },
      "text/plain": [
       "Epoch 33 Training:   0%|          | 0/80 [00:00<?, ?it/s]"
      ]
     },
     "metadata": {},
     "output_type": "display_data"
    },
    {
     "data": {
      "application/vnd.jupyter.widget-view+json": {
       "model_id": "4f3e6ca0171f429f92e646c1254b8bd4",
       "version_major": 2,
       "version_minor": 0
      },
      "text/plain": [
       "Epoch 33 Validation:   0%|          | 0/18 [00:00<?, ?it/s]"
      ]
     },
     "metadata": {},
     "output_type": "display_data"
    },
    {
     "name": "stdout",
     "output_type": "stream",
     "text": [
      "Epoch [33/50] Train Loss: 0.0024, Train Acc: 1.0000, Train F1: 1.0000 | Val Loss: 0.5354, Val Acc: 0.9068, Val F1: 0.9000\n"
     ]
    },
    {
     "data": {
      "application/vnd.jupyter.widget-view+json": {
       "model_id": "e1af9b864f6b45748aa01f166225aec9",
       "version_major": 2,
       "version_minor": 0
      },
      "text/plain": [
       "Epoch 34 Training:   0%|          | 0/80 [00:00<?, ?it/s]"
      ]
     },
     "metadata": {},
     "output_type": "display_data"
    },
    {
     "data": {
      "application/vnd.jupyter.widget-view+json": {
       "model_id": "37bcccb9dddb46bdabf9dd7e2394318f",
       "version_major": 2,
       "version_minor": 0
      },
      "text/plain": [
       "Epoch 34 Validation:   0%|          | 0/18 [00:00<?, ?it/s]"
      ]
     },
     "metadata": {},
     "output_type": "display_data"
    },
    {
     "name": "stdout",
     "output_type": "stream",
     "text": [
      "Epoch [34/50] Train Loss: 0.0020, Train Acc: 1.0000, Train F1: 1.0000 | Val Loss: 0.5433, Val Acc: 0.9049, Val F1: 0.8984\n"
     ]
    },
    {
     "data": {
      "application/vnd.jupyter.widget-view+json": {
       "model_id": "52b66bf18a9242689a695f09b4c2875c",
       "version_major": 2,
       "version_minor": 0
      },
      "text/plain": [
       "Epoch 35 Training:   0%|          | 0/80 [00:00<?, ?it/s]"
      ]
     },
     "metadata": {},
     "output_type": "display_data"
    },
    {
     "data": {
      "application/vnd.jupyter.widget-view+json": {
       "model_id": "dde5f4dbb2124a80a0a771165de82cbe",
       "version_major": 2,
       "version_minor": 0
      },
      "text/plain": [
       "Epoch 35 Validation:   0%|          | 0/18 [00:00<?, ?it/s]"
      ]
     },
     "metadata": {},
     "output_type": "display_data"
    },
    {
     "name": "stdout",
     "output_type": "stream",
     "text": [
      "Epoch [35/50] Train Loss: 0.0021, Train Acc: 1.0000, Train F1: 1.0000 | Val Loss: 0.5538, Val Acc: 0.9068, Val F1: 0.8999\n"
     ]
    },
    {
     "data": {
      "application/vnd.jupyter.widget-view+json": {
       "model_id": "df22ba6ebe074665aa80cfd0187d4969",
       "version_major": 2,
       "version_minor": 0
      },
      "text/plain": [
       "Epoch 36 Training:   0%|          | 0/80 [00:00<?, ?it/s]"
      ]
     },
     "metadata": {},
     "output_type": "display_data"
    },
    {
     "data": {
      "application/vnd.jupyter.widget-view+json": {
       "model_id": "4fd093dbc68b4a4c8da0e98347cf5b38",
       "version_major": 2,
       "version_minor": 0
      },
      "text/plain": [
       "Epoch 36 Validation:   0%|          | 0/18 [00:00<?, ?it/s]"
      ]
     },
     "metadata": {},
     "output_type": "display_data"
    },
    {
     "name": "stdout",
     "output_type": "stream",
     "text": [
      "Epoch [36/50] Train Loss: 0.0016, Train Acc: 0.9996, Train F1: 0.9996 | Val Loss: 0.5638, Val Acc: 0.9049, Val F1: 0.8979\n"
     ]
    },
    {
     "data": {
      "application/vnd.jupyter.widget-view+json": {
       "model_id": "a546025d092840acb44d1d4a03d6d872",
       "version_major": 2,
       "version_minor": 0
      },
      "text/plain": [
       "Epoch 37 Training:   0%|          | 0/80 [00:00<?, ?it/s]"
      ]
     },
     "metadata": {},
     "output_type": "display_data"
    },
    {
     "data": {
      "application/vnd.jupyter.widget-view+json": {
       "model_id": "7d0f3093fca543299f5142d5d75fbd1a",
       "version_major": 2,
       "version_minor": 0
      },
      "text/plain": [
       "Epoch 37 Validation:   0%|          | 0/18 [00:00<?, ?it/s]"
      ]
     },
     "metadata": {},
     "output_type": "display_data"
    },
    {
     "name": "stdout",
     "output_type": "stream",
     "text": [
      "Epoch [37/50] Train Loss: 0.0017, Train Acc: 1.0000, Train F1: 1.0000 | Val Loss: 0.5634, Val Acc: 0.9086, Val F1: 0.9012\n"
     ]
    },
    {
     "data": {
      "application/vnd.jupyter.widget-view+json": {
       "model_id": "3b4411af00a34e2daebed7e9fd5d1b6c",
       "version_major": 2,
       "version_minor": 0
      },
      "text/plain": [
       "Epoch 38 Training:   0%|          | 0/80 [00:00<?, ?it/s]"
      ]
     },
     "metadata": {},
     "output_type": "display_data"
    },
    {
     "data": {
      "application/vnd.jupyter.widget-view+json": {
       "model_id": "bab75617a2fa4179bdf6e4e2bc6ee403",
       "version_major": 2,
       "version_minor": 0
      },
      "text/plain": [
       "Epoch 38 Validation:   0%|          | 0/18 [00:00<?, ?it/s]"
      ]
     },
     "metadata": {},
     "output_type": "display_data"
    },
    {
     "name": "stdout",
     "output_type": "stream",
     "text": [
      "Epoch [38/50] Train Loss: 0.0014, Train Acc: 1.0000, Train F1: 1.0000 | Val Loss: 0.5645, Val Acc: 0.9068, Val F1: 0.8996\n"
     ]
    },
    {
     "data": {
      "application/vnd.jupyter.widget-view+json": {
       "model_id": "0af1f21814594c5d99b192a359624a43",
       "version_major": 2,
       "version_minor": 0
      },
      "text/plain": [
       "Epoch 39 Training:   0%|          | 0/80 [00:00<?, ?it/s]"
      ]
     },
     "metadata": {},
     "output_type": "display_data"
    },
    {
     "data": {
      "application/vnd.jupyter.widget-view+json": {
       "model_id": "06780d0200214142b1e1623786113167",
       "version_major": 2,
       "version_minor": 0
      },
      "text/plain": [
       "Epoch 39 Validation:   0%|          | 0/18 [00:00<?, ?it/s]"
      ]
     },
     "metadata": {},
     "output_type": "display_data"
    },
    {
     "name": "stdout",
     "output_type": "stream",
     "text": [
      "Epoch [39/50] Train Loss: 0.0014, Train Acc: 1.0000, Train F1: 1.0000 | Val Loss: 0.5565, Val Acc: 0.9031, Val F1: 0.8966\n"
     ]
    },
    {
     "data": {
      "application/vnd.jupyter.widget-view+json": {
       "model_id": "16da38e59d984bf0983ce15ef08a4547",
       "version_major": 2,
       "version_minor": 0
      },
      "text/plain": [
       "Epoch 40 Training:   0%|          | 0/80 [00:00<?, ?it/s]"
      ]
     },
     "metadata": {},
     "output_type": "display_data"
    },
    {
     "data": {
      "application/vnd.jupyter.widget-view+json": {
       "model_id": "2e4113ef6e0d42d987d7a5e5a59b36bb",
       "version_major": 2,
       "version_minor": 0
      },
      "text/plain": [
       "Epoch 40 Validation:   0%|          | 0/18 [00:00<?, ?it/s]"
      ]
     },
     "metadata": {},
     "output_type": "display_data"
    },
    {
     "name": "stdout",
     "output_type": "stream",
     "text": [
      "Epoch [40/50] Train Loss: 0.0014, Train Acc: 1.0000, Train F1: 1.0000 | Val Loss: 0.5605, Val Acc: 0.9031, Val F1: 0.8966\n"
     ]
    },
    {
     "data": {
      "application/vnd.jupyter.widget-view+json": {
       "model_id": "bcb6a8011f3a494b9b9b60fea27a8669",
       "version_major": 2,
       "version_minor": 0
      },
      "text/plain": [
       "Epoch 41 Training:   0%|          | 0/80 [00:00<?, ?it/s]"
      ]
     },
     "metadata": {},
     "output_type": "display_data"
    },
    {
     "data": {
      "application/vnd.jupyter.widget-view+json": {
       "model_id": "2d643a0f56ac42b4a193f1bb14ba24bf",
       "version_major": 2,
       "version_minor": 0
      },
      "text/plain": [
       "Epoch 41 Validation:   0%|          | 0/18 [00:00<?, ?it/s]"
      ]
     },
     "metadata": {},
     "output_type": "display_data"
    },
    {
     "name": "stdout",
     "output_type": "stream",
     "text": [
      "Epoch [41/50] Train Loss: 0.0020, Train Acc: 1.0000, Train F1: 1.0000 | Val Loss: 0.5629, Val Acc: 0.9068, Val F1: 0.8998\n"
     ]
    },
    {
     "data": {
      "application/vnd.jupyter.widget-view+json": {
       "model_id": "41d9bef91cb74664988e6f34d4919ea5",
       "version_major": 2,
       "version_minor": 0
      },
      "text/plain": [
       "Epoch 42 Training:   0%|          | 0/80 [00:00<?, ?it/s]"
      ]
     },
     "metadata": {},
     "output_type": "display_data"
    },
    {
     "data": {
      "application/vnd.jupyter.widget-view+json": {
       "model_id": "16545d27a42845f4b03693fb8d08a62c",
       "version_major": 2,
       "version_minor": 0
      },
      "text/plain": [
       "Epoch 42 Validation:   0%|          | 0/18 [00:00<?, ?it/s]"
      ]
     },
     "metadata": {},
     "output_type": "display_data"
    },
    {
     "name": "stdout",
     "output_type": "stream",
     "text": [
      "Epoch [42/50] Train Loss: 0.0022, Train Acc: 1.0000, Train F1: 1.0000 | Val Loss: 0.5605, Val Acc: 0.9104, Val F1: 0.9036\n"
     ]
    },
    {
     "data": {
      "application/vnd.jupyter.widget-view+json": {
       "model_id": "6ef3e135c1254c5186d7f0f0daa66c3b",
       "version_major": 2,
       "version_minor": 0
      },
      "text/plain": [
       "Epoch 43 Training:   0%|          | 0/80 [00:00<?, ?it/s]"
      ]
     },
     "metadata": {},
     "output_type": "display_data"
    },
    {
     "data": {
      "application/vnd.jupyter.widget-view+json": {
       "model_id": "9cbe71773d3d48ddba7e51b298cd4298",
       "version_major": 2,
       "version_minor": 0
      },
      "text/plain": [
       "Epoch 43 Validation:   0%|          | 0/18 [00:00<?, ?it/s]"
      ]
     },
     "metadata": {},
     "output_type": "display_data"
    },
    {
     "name": "stdout",
     "output_type": "stream",
     "text": [
      "Epoch [43/50] Train Loss: 0.0012, Train Acc: 1.0000, Train F1: 1.0000 | Val Loss: 0.5623, Val Acc: 0.9049, Val F1: 0.8982\n"
     ]
    },
    {
     "data": {
      "application/vnd.jupyter.widget-view+json": {
       "model_id": "b21fa12a286e4bd1895eba3cc48ac8f7",
       "version_major": 2,
       "version_minor": 0
      },
      "text/plain": [
       "Epoch 44 Training:   0%|          | 0/80 [00:00<?, ?it/s]"
      ]
     },
     "metadata": {},
     "output_type": "display_data"
    },
    {
     "data": {
      "application/vnd.jupyter.widget-view+json": {
       "model_id": "17b552fbcbf24ad19a7f1da91cd67b13",
       "version_major": 2,
       "version_minor": 0
      },
      "text/plain": [
       "Epoch 44 Validation:   0%|          | 0/18 [00:00<?, ?it/s]"
      ]
     },
     "metadata": {},
     "output_type": "display_data"
    },
    {
     "name": "stdout",
     "output_type": "stream",
     "text": [
      "Epoch [44/50] Train Loss: 0.0010, Train Acc: 1.0000, Train F1: 1.0000 | Val Loss: 0.5664, Val Acc: 0.9049, Val F1: 0.8982\n"
     ]
    },
    {
     "data": {
      "application/vnd.jupyter.widget-view+json": {
       "model_id": "3932ba4af264424293734a7829510356",
       "version_major": 2,
       "version_minor": 0
      },
      "text/plain": [
       "Epoch 45 Training:   0%|          | 0/80 [00:00<?, ?it/s]"
      ]
     },
     "metadata": {},
     "output_type": "display_data"
    },
    {
     "data": {
      "application/vnd.jupyter.widget-view+json": {
       "model_id": "d225cabd4529421d863086a6b2275856",
       "version_major": 2,
       "version_minor": 0
      },
      "text/plain": [
       "Epoch 45 Validation:   0%|          | 0/18 [00:00<?, ?it/s]"
      ]
     },
     "metadata": {},
     "output_type": "display_data"
    },
    {
     "name": "stdout",
     "output_type": "stream",
     "text": [
      "Epoch [45/50] Train Loss: 0.0016, Train Acc: 1.0000, Train F1: 1.0000 | Val Loss: 0.5712, Val Acc: 0.9049, Val F1: 0.8982\n"
     ]
    },
    {
     "data": {
      "application/vnd.jupyter.widget-view+json": {
       "model_id": "5a56c79bfe814244a090aef85a0b66c6",
       "version_major": 2,
       "version_minor": 0
      },
      "text/plain": [
       "Epoch 46 Training:   0%|          | 0/80 [00:00<?, ?it/s]"
      ]
     },
     "metadata": {},
     "output_type": "display_data"
    },
    {
     "data": {
      "application/vnd.jupyter.widget-view+json": {
       "model_id": "63e0f06ec69d48b7b2f573d30e643bfe",
       "version_major": 2,
       "version_minor": 0
      },
      "text/plain": [
       "Epoch 46 Validation:   0%|          | 0/18 [00:00<?, ?it/s]"
      ]
     },
     "metadata": {},
     "output_type": "display_data"
    },
    {
     "name": "stdout",
     "output_type": "stream",
     "text": [
      "Epoch [46/50] Train Loss: 0.0024, Train Acc: 0.9992, Train F1: 0.9992 | Val Loss: 0.5764, Val Acc: 0.9086, Val F1: 0.9015\n"
     ]
    },
    {
     "data": {
      "application/vnd.jupyter.widget-view+json": {
       "model_id": "ab55ab12731b4ecf916d2c76a3653c48",
       "version_major": 2,
       "version_minor": 0
      },
      "text/plain": [
       "Epoch 47 Training:   0%|          | 0/80 [00:00<?, ?it/s]"
      ]
     },
     "metadata": {},
     "output_type": "display_data"
    },
    {
     "data": {
      "application/vnd.jupyter.widget-view+json": {
       "model_id": "cc6808c1e5bc4b24980e04ad933a8191",
       "version_major": 2,
       "version_minor": 0
      },
      "text/plain": [
       "Epoch 47 Validation:   0%|          | 0/18 [00:00<?, ?it/s]"
      ]
     },
     "metadata": {},
     "output_type": "display_data"
    },
    {
     "name": "stdout",
     "output_type": "stream",
     "text": [
      "Epoch [47/50] Train Loss: 0.0020, Train Acc: 1.0000, Train F1: 1.0000 | Val Loss: 0.5791, Val Acc: 0.9104, Val F1: 0.9033\n"
     ]
    },
    {
     "data": {
      "application/vnd.jupyter.widget-view+json": {
       "model_id": "4b3836f83e274821816c3e120c4af72c",
       "version_major": 2,
       "version_minor": 0
      },
      "text/plain": [
       "Epoch 48 Training:   0%|          | 0/80 [00:00<?, ?it/s]"
      ]
     },
     "metadata": {},
     "output_type": "display_data"
    },
    {
     "data": {
      "application/vnd.jupyter.widget-view+json": {
       "model_id": "810a6dda152343ce810f5f042ee8a7f0",
       "version_major": 2,
       "version_minor": 0
      },
      "text/plain": [
       "Epoch 48 Validation:   0%|          | 0/18 [00:00<?, ?it/s]"
      ]
     },
     "metadata": {},
     "output_type": "display_data"
    },
    {
     "name": "stdout",
     "output_type": "stream",
     "text": [
      "Epoch [48/50] Train Loss: 0.0011, Train Acc: 1.0000, Train F1: 1.0000 | Val Loss: 0.5792, Val Acc: 0.9068, Val F1: 0.8999\n"
     ]
    },
    {
     "data": {
      "application/vnd.jupyter.widget-view+json": {
       "model_id": "a53615a7e5664bc0a91a0e2d9d41cbe9",
       "version_major": 2,
       "version_minor": 0
      },
      "text/plain": [
       "Epoch 49 Training:   0%|          | 0/80 [00:00<?, ?it/s]"
      ]
     },
     "metadata": {},
     "output_type": "display_data"
    },
    {
     "data": {
      "application/vnd.jupyter.widget-view+json": {
       "model_id": "09839df7ebf544b2bc6eb13327a4d9d2",
       "version_major": 2,
       "version_minor": 0
      },
      "text/plain": [
       "Epoch 49 Validation:   0%|          | 0/18 [00:00<?, ?it/s]"
      ]
     },
     "metadata": {},
     "output_type": "display_data"
    },
    {
     "name": "stdout",
     "output_type": "stream",
     "text": [
      "Epoch [49/50] Train Loss: 0.0014, Train Acc: 1.0000, Train F1: 1.0000 | Val Loss: 0.5817, Val Acc: 0.9086, Val F1: 0.9016\n"
     ]
    },
    {
     "data": {
      "application/vnd.jupyter.widget-view+json": {
       "model_id": "4c3c4e7a0f1e4fcf8437a5e501144d7d",
       "version_major": 2,
       "version_minor": 0
      },
      "text/plain": [
       "Epoch 50 Training:   0%|          | 0/80 [00:00<?, ?it/s]"
      ]
     },
     "metadata": {},
     "output_type": "display_data"
    },
    {
     "data": {
      "application/vnd.jupyter.widget-view+json": {
       "model_id": "e00c05db50a14e019f5791a927b815c1",
       "version_major": 2,
       "version_minor": 0
      },
      "text/plain": [
       "Epoch 50 Validation:   0%|          | 0/18 [00:00<?, ?it/s]"
      ]
     },
     "metadata": {},
     "output_type": "display_data"
    },
    {
     "name": "stdout",
     "output_type": "stream",
     "text": [
      "Epoch [50/50] Train Loss: 0.0013, Train Acc: 1.0000, Train F1: 1.0000 | Val Loss: 0.5821, Val Acc: 0.9104, Val F1: 0.9033\n",
      "\n",
      "Training complete!\n"
     ]
    },
    {
     "data": {
      "image/png": "[encoded data removed]",
      "text/plain": [
       "<Figure size 1200x500 with 2 Axes>"
      ]
     },
     "metadata": {},
     "output_type": "display_data"
    },
    {
     "name": "stdout",
     "output_type": "stream",
     "text": [
      "\n",
      "Evaluating model on test set...\n"
     ]
    },
    {
     "data": {
      "application/vnd.jupyter.widget-view+json": {
       "model_id": "cd0787527a884ecb831ab23d84ffa964",
       "version_major": 2,
       "version_minor": 0
      },
      "text/plain": [
       "Test Evaluation:   0%|          | 0/18 [00:00<?, ?it/s]"
      ]
     },
     "metadata": {},
     "output_type": "display_data"
    },
    {
     "name": "stdout",
     "output_type": "stream",
     "text": [
      "\n",
      "Test Loss: 0.4219, Test Acc: 0.9197, Test F1: 0.9144\n"
     ]
    },
    {
     "data": {
      "image/png": "[encoded data removed]",
      "text/plain": [
       "<Figure size 800x600 with 2 Axes>"
      ]
     },
     "metadata": {},
     "output_type": "display_data"
    }
   ],
   "source": [
    "# 11. Định nghĩa hàm tính metrics\n",
    "def calculate_metrics(y_true, y_pred, average='macro'):\n",
    "    accuracy = accuracy_score(y_true, y_pred)\n",
    "    f1 = f1_score(y_true, y_pred, average=average)\n",
    "    return accuracy, f1\n",
    "\n",
    "# 12. Cấu hình huấn luyện\n",
    "LEARNING_RATE = 0.001\n",
    "NUM_EPOCHS = 50 # Bạn có thể tăng số epoch nếu cần\n",
    "\n",
    "criterion = nn.CrossEntropyLoss().to(device) # CrossEntropyLoss bao gồm Softmax\n",
    "optimizer = optim.Adam(model.parameters(), lr=LEARNING_RATE, weight_decay=1e-5) # Thêm weight_decay để chống overfit\n",
    "scheduler = optim.lr_scheduler.ReduceLROnPlateau(optimizer, mode='max', factor=0.5, patience=5, verbose=True)\n",
    "\n",
    "# 13. Vòng lặp huấn luyện\n",
    "best_val_f1 = 0.0\n",
    "\n",
    "print(\"\\nStarting training...\")\n",
    "history = {'train_loss': [], 'train_acc': [], 'train_f1': [],\n",
    "           'val_loss': [], 'val_acc': [], 'val_f1': []}\n",
    "\n",
    "for epoch in range(NUM_EPOCHS):\n",
    "    model.train()\n",
    "    total_train_loss = 0\n",
    "    all_train_preds = []\n",
    "    all_train_labels = []\n",
    "\n",
    "    for batch_idx, (features, labels) in enumerate(tqdm(train_loader, desc=f\"Epoch {epoch+1} Training\")):\n",
    "        features = features.to(device)\n",
    "        labels = labels.to(device)\n",
    "\n",
    "        optimizer.zero_grad()\n",
    "        outputs = model(features)\n",
    "        loss = criterion(outputs, labels)\n",
    "        loss.backward()\n",
    "        optimizer.step()\n",
    "\n",
    "        total_train_loss += loss.item()\n",
    "        _, predicted = torch.max(outputs.data, 1)\n",
    "        all_train_preds.extend(predicted.cpu().numpy())\n",
    "        all_train_labels.extend(labels.cpu().numpy())\n",
    "\n",
    "    avg_train_loss = total_train_loss / len(train_loader)\n",
    "    train_acc, train_f1 = calculate_metrics(all_train_labels, all_train_preds)\n",
    "\n",
    "    # Validation phase\n",
    "    model.eval()\n",
    "    total_val_loss = 0\n",
    "    all_val_preds = []\n",
    "    all_val_labels = []\n",
    "\n",
    "    with torch.no_grad():\n",
    "        for features, labels in tqdm(val_loader, desc=f\"Epoch {epoch+1} Validation\"):\n",
    "            features = features.to(device)\n",
    "            labels = labels.to(device)\n",
    "\n",
    "            outputs = model(features)\n",
    "            loss = criterion(outputs, labels)\n",
    "            total_val_loss += loss.item()\n",
    "\n",
    "            _, predicted = torch.max(outputs.data, 1)\n",
    "            all_val_preds.extend(predicted.cpu().numpy())\n",
    "            all_val_labels.extend(labels.cpu().numpy())\n",
    "\n",
    "    avg_val_loss = total_val_loss / len(val_loader)\n",
    "    val_acc, val_f1 = calculate_metrics(all_val_labels, all_val_preds)\n",
    "\n",
    "    history['train_loss'].append(avg_train_loss)\n",
    "    history['train_acc'].append(train_acc)\n",
    "    history['train_f1'].append(train_f1)\n",
    "    history['val_loss'].append(avg_val_loss)\n",
    "    history['val_acc'].append(val_acc)\n",
    "    history['val_f1'].append(val_f1)\n",
    "\n",
    "    print(f\"Epoch [{epoch+1}/{NUM_EPOCHS}] Train Loss: {avg_train_loss:.4f}, Train Acc: {train_acc:.4f}, Train F1: {train_f1:.4f} | \"\n",
    "          f\"Val Loss: {avg_val_loss:.4f}, Val Acc: {val_acc:.4f}, Val F1: {val_f1:.4f}\")\n",
    "\n",
    "    scheduler.step(val_f1)\n",
    "\n",
    "    # Lưu mô hình tốt nhất\n",
    "    if val_f1 > best_val_f1:\n",
    "        best_val_f1 = val_f1\n",
    "        torch.save(model.state_dict(), MODEL_SAVE_PATH)\n",
    "        print(f\"Saved best model with F1: {best_val_f1:.4f}\")\n",
    "\n",
    "print(\"\\nTraining complete!\")\n",
    "\n",
    "# 14. Vẽ biểu đồ quá trình huấn luyện\n",
    "plt.figure(figsize=(12, 5))\n",
    "\n",
    "plt.subplot(1, 2, 1)\n",
    "plt.plot(history['train_loss'], label='Train Loss')\n",
    "plt.plot(history['val_loss'], label='Validation Loss')\n",
    "plt.title('Loss over Epochs')\n",
    "plt.xlabel('Epoch')\n",
    "plt.ylabel('Loss')\n",
    "plt.legend()\n",
    "\n",
    "plt.subplot(1, 2, 2)\n",
    "plt.plot(history['train_f1'], label='Train F1-score')\n",
    "plt.plot(history['val_f1'], label='Validation F1-score')\n",
    "plt.plot(history['train_acc'], label='Train Accuracy')\n",
    "plt.plot(history['val_acc'], label='Validation Accuracy')\n",
    "plt.title('Metrics over Epochs')\n",
    "plt.xlabel('Epoch')\n",
    "plt.ylabel('Score')\n",
    "plt.legend()\n",
    "\n",
    "plt.tight_layout()\n",
    "plt.show()\n",
    "\n",
    "# 15. Đánh giá mô hình trên tập kiểm thử (Test Set)\n",
    "print(\"\\nEvaluating model on test set...\")\n",
    "model.load_state_dict(torch.load(MODEL_SAVE_PATH, map_location=device)) # Tải mô hình tốt nhất\n",
    "model.eval()\n",
    "\n",
    "total_test_loss = 0\n",
    "all_test_preds = []\n",
    "all_test_labels = []\n",
    "\n",
    "with torch.no_grad():\n",
    "    for features, labels in tqdm(test_loader, desc=\"Test Evaluation\"):\n",
    "        features = features.to(device)\n",
    "        labels = labels.to(device)\n",
    "\n",
    "        outputs = model(features)\n",
    "        loss = criterion(outputs, labels)\n",
    "        total_test_loss += loss.item()\n",
    "\n",
    "        _, predicted = torch.max(outputs.data, 1)\n",
    "        all_test_preds.extend(predicted.cpu().numpy())\n",
    "        all_test_labels.extend(labels.cpu().numpy())\n",
    "\n",
    "avg_test_loss = total_test_loss / len(test_loader)\n",
    "test_acc, test_f1 = calculate_metrics(all_test_labels, all_test_preds)\n",
    "\n",
    "print(f\"\\nTest Loss: {avg_test_loss:.4f}, Test Acc: {test_acc:.4f}, Test F1: {test_f1:.4f}\")\n",
    "\n",
    "# Vẽ Confusion Matrix\n",
    "cm = confusion_matrix(all_test_labels, all_test_preds)\n",
    "plt.figure(figsize=(8, 6))\n",
    "sns.heatmap(cm, annot=True, fmt='d', cmap='Blues',\n",
    "            xticklabels=list(int_to_label.values()),\n",
    "            yticklabels=list(int_to_label.values()))\n",
    "plt.xlabel('Predicted Label')\n",
    "plt.ylabel('True Label')\n",
    "plt.title('Confusion Matrix on Test Set')\n",
    "plt.show()"
   ]
  },
  {
   "cell_type": "code",
   "execution_count": 6,
   "metadata": {
    "execution": {
     "iopub.execute_input": "2025-07-01T17:20:03.211547Z",
     "iopub.status.busy": "2025-07-01T17:20:03.210650Z",
     "iopub.status.idle": "2025-07-01T17:20:18.182020Z",
     "shell.execute_reply": "2025-07-01T17:20:18.180908Z",
     "shell.execute_reply.started": "2025-07-01T17:20:03.211520Z"
    },
    "trusted": true
   },
   "outputs": [
    {
     "name": "stdout",
     "output_type": "stream",
     "text": [
      "Collecting gradio\n",
      "  Downloading gradio-5.35.0-py3-none-any.whl.metadata (16 kB)\n",
      "Requirement already satisfied: aiofiles<25.0,>=22.0 in /usr/local/lib/python3.11/dist-packages (from gradio) (22.1.0)\n",
      "Requirement already satisfied: anyio<5.0,>=3.0 in /usr/local/lib/python3.11/dist-packages (from gradio) (4.9.0)\n",
      "Collecting fastapi<1.0,>=0.115.2 (from gradio)\n",
      "  Downloading fastapi-0.115.14-py3-none-any.whl.metadata (27 kB)\n",
      "Collecting ffmpy (from gradio)\n",
      "  Downloading ffmpy-0.6.0-py3-none-any.whl.metadata (2.9 kB)\n",
      "Collecting gradio-client==1.10.4 (from gradio)\n",
      "  Downloading gradio_client-1.10.4-py3-none-any.whl.metadata (7.1 kB)\n",
      "Collecting groovy~=0.1 (from gradio)\n",
      "  Downloading groovy-0.1.2-py3-none-any.whl.metadata (6.1 kB)\n",
      "Requirement already satisfied: httpx>=0.24.1 in /usr/local/lib/python3.11/dist-packages (from gradio) (0.28.1)\n",
      "Requirement already satisfied: huggingface-hub>=0.28.1 in /usr/local/lib/python3.11/dist-packages (from gradio) (0.31.1)\n",
      "Requirement already satisfied: jinja2<4.0 in /usr/local/lib/python3.11/dist-packages (from gradio) (3.1.6)\n",
      "Requirement already satisfied: markupsafe<4.0,>=2.0 in /usr/local/lib/python3.11/dist-packages (from gradio) (3.0.2)\n",
      "Requirement already satisfied: numpy<3.0,>=1.0 in /usr/local/lib/python3.11/dist-packages (from gradio) (1.26.4)\n",
      "Requirement already satisfied: orjson~=3.0 in /usr/local/lib/python3.11/dist-packages (from gradio) (3.10.16)\n",
      "Requirement already satisfied: packaging in /usr/local/lib/python3.11/dist-packages (from gradio) (25.0)\n",
      "Requirement already satisfied: pandas<3.0,>=1.0 in /usr/local/lib/python3.11/dist-packages (from gradio) (2.2.3)\n",
      "Requirement already satisfied: pillow<12.0,>=8.0 in /usr/local/lib/python3.11/dist-packages (from gradio) (11.1.0)\n",
      "Requirement already satisfied: pydantic<2.12,>=2.0 in /usr/local/lib/python3.11/dist-packages (from gradio) (2.11.4)\n",
      "Requirement already satisfied: pydub in /usr/local/lib/python3.11/dist-packages (from gradio) (0.25.1)\n",
      "Collecting python-multipart>=0.0.18 (from gradio)\n",
      "  Downloading python_multipart-0.0.20-py3-none-any.whl.metadata (1.8 kB)\n",
      "Requirement already satisfied: pyyaml<7.0,>=5.0 in /usr/local/lib/python3.11/dist-packages (from gradio) (6.0.2)\n",
      "Collecting ruff>=0.9.3 (from gradio)\n",
      "  Downloading ruff-0.12.1-py3-none-manylinux_2_17_x86_64.manylinux2014_x86_64.whl.metadata (25 kB)\n",
      "Collecting safehttpx<0.2.0,>=0.1.6 (from gradio)\n",
      "  Downloading safehttpx-0.1.6-py3-none-any.whl.metadata (4.2 kB)\n",
      "Collecting semantic-version~=2.0 (from gradio)\n",
      "  Downloading semantic_version-2.10.0-py2.py3-none-any.whl.metadata (9.7 kB)\n",
      "Collecting starlette<1.0,>=0.40.0 (from gradio)\n",
      "  Downloading starlette-0.47.1-py3-none-any.whl.metadata (6.2 kB)\n",
      "Collecting tomlkit<0.14.0,>=0.12.0 (from gradio)\n",
      "  Downloading tomlkit-0.13.3-py3-none-any.whl.metadata (2.8 kB)\n",
      "Requirement already satisfied: typer<1.0,>=0.12 in /usr/local/lib/python3.11/dist-packages (from gradio) (0.15.2)\n",
      "Requirement already satisfied: typing-extensions~=4.0 in /usr/local/lib/python3.11/dist-packages (from gradio) (4.13.2)\n",
      "Collecting uvicorn>=0.14.0 (from gradio)\n",
      "  Downloading uvicorn-0.35.0-py3-none-any.whl.metadata (6.5 kB)\n",
      "Requirement already satisfied: fsspec in /usr/local/lib/python3.11/dist-packages (from gradio-client==1.10.4->gradio) (2025.3.2)\n",
      "Requirement already satisfied: websockets<16.0,>=10.0 in /usr/local/lib/python3.11/dist-packages (from gradio-client==1.10.4->gradio) (15.0.1)\n",
      "Requirement already satisfied: idna>=2.8 in /usr/local/lib/python3.11/dist-packages (from anyio<5.0,>=3.0->gradio) (3.10)\n",
      "Requirement already satisfied: sniffio>=1.1 in /usr/local/lib/python3.11/dist-packages (from anyio<5.0,>=3.0->gradio) (1.3.1)\n",
      "Collecting starlette<1.0,>=0.40.0 (from gradio)\n",
      "  Downloading starlette-0.46.2-py3-none-any.whl.metadata (6.2 kB)\n",
      "Requirement already satisfied: certifi in /usr/local/lib/python3.11/dist-packages (from httpx>=0.24.1->gradio) (2025.4.26)\n",
      "Requirement already satisfied: httpcore==1.* in /usr/local/lib/python3.11/dist-packages (from httpx>=0.24.1->gradio) (1.0.7)\n",
      "Requirement already satisfied: h11<0.15,>=0.13 in /usr/local/lib/python3.11/dist-packages (from httpcore==1.*->httpx>=0.24.1->gradio) (0.14.0)\n",
      "Requirement already satisfied: filelock in /usr/local/lib/python3.11/dist-packages (from huggingface-hub>=0.28.1->gradio) (3.18.0)\n",
      "Requirement already satisfied: requests in /usr/local/lib/python3.11/dist-packages (from huggingface-hub>=0.28.1->gradio) (2.32.3)\n",
      "Requirement already satisfied: tqdm>=4.42.1 in /usr/local/lib/python3.11/dist-packages (from huggingface-hub>=0.28.1->gradio) (4.67.1)\n",
      "Requirement already satisfied: hf-xet<2.0.0,>=1.1.0 in /usr/local/lib/python3.11/dist-packages (from huggingface-hub>=0.28.1->gradio) (1.1.0)\n",
      "Requirement already satisfied: mkl_fft in /usr/local/lib/python3.11/dist-packages (from numpy<3.0,>=1.0->gradio) (1.3.8)\n",
      "Requirement already satisfied: mkl_random in /usr/local/lib/python3.11/dist-packages (from numpy<3.0,>=1.0->gradio) (1.2.4)\n",
      "Requirement already satisfied: mkl_umath in /usr/local/lib/python3.11/dist-packages (from numpy<3.0,>=1.0->gradio) (0.1.1)\n",
      "Requirement already satisfied: mkl in /usr/local/lib/python3.11/dist-packages (from numpy<3.0,>=1.0->gradio) (2025.1.0)\n",
      "Requirement already satisfied: tbb4py in /usr/local/lib/python3.11/dist-packages (from numpy<3.0,>=1.0->gradio) (2022.1.0)\n",
      "Requirement already satisfied: mkl-service in /usr/local/lib/python3.11/dist-packages (from numpy<3.0,>=1.0->gradio) (2.4.1)\n",
      "Requirement already satisfied: python-dateutil>=2.8.2 in /usr/local/lib/python3.11/dist-packages (from pandas<3.0,>=1.0->gradio) (2.9.0.post0)\n",
      "Requirement already satisfied: pytz>=2020.1 in /usr/local/lib/python3.11/dist-packages (from pandas<3.0,>=1.0->gradio) (2025.2)\n",
      "Requirement already satisfied: tzdata>=2022.7 in /usr/local/lib/python3.11/dist-packages (from pandas<3.0,>=1.0->gradio) (2025.2)\n",
      "Requirement already satisfied: annotated-types>=0.6.0 in /usr/local/lib/python3.11/dist-packages (from pydantic<2.12,>=2.0->gradio) (0.7.0)\n",
      "Requirement already satisfied: pydantic-core==2.33.2 in /usr/local/lib/python3.11/dist-packages (from pydantic<2.12,>=2.0->gradio) (2.33.2)\n",
      "Requirement already satisfied: typing-inspection>=0.4.0 in /usr/local/lib/python3.11/dist-packages (from pydantic<2.12,>=2.0->gradio) (0.4.0)\n",
      "Requirement already satisfied: click>=8.0.0 in /usr/local/lib/python3.11/dist-packages (from typer<1.0,>=0.12->gradio) (8.1.8)\n",
      "Requirement already satisfied: shellingham>=1.3.0 in /usr/local/lib/python3.11/dist-packages (from typer<1.0,>=0.12->gradio) (1.5.4)\n",
      "Requirement already satisfied: rich>=10.11.0 in /usr/local/lib/python3.11/dist-packages (from typer<1.0,>=0.12->gradio) (14.0.0)\n",
      "Requirement already satisfied: six>=1.5 in /usr/local/lib/python3.11/dist-packages (from python-dateutil>=2.8.2->pandas<3.0,>=1.0->gradio) (1.17.0)\n",
      "Requirement already satisfied: markdown-it-py>=2.2.0 in /usr/local/lib/python3.11/dist-packages (from rich>=10.11.0->typer<1.0,>=0.12->gradio) (3.0.0)\n",
      "Requirement already satisfied: pygments<3.0.0,>=2.13.0 in /usr/local/lib/python3.11/dist-packages (from rich>=10.11.0->typer<1.0,>=0.12->gradio) (2.19.1)\n",
      "Requirement already satisfied: intel-openmp<2026,>=2024 in /usr/local/lib/python3.11/dist-packages (from mkl->numpy<3.0,>=1.0->gradio) (2024.2.0)\n",
      "Requirement already satisfied: tbb==2022.* in /usr/local/lib/python3.11/dist-packages (from mkl->numpy<3.0,>=1.0->gradio) (2022.1.0)\n",
      "Requirement already satisfied: tcmlib==1.* in /usr/local/lib/python3.11/dist-packages (from tbb==2022.*->mkl->numpy<3.0,>=1.0->gradio) (1.3.0)\n",
      "Requirement already satisfied: intel-cmplr-lib-rt in /usr/local/lib/python3.11/dist-packages (from mkl_umath->numpy<3.0,>=1.0->gradio) (2024.2.0)\n",
      "Requirement already satisfied: charset-normalizer<4,>=2 in /usr/local/lib/python3.11/dist-packages (from requests->huggingface-hub>=0.28.1->gradio) (3.4.2)\n",
      "Requirement already satisfied: urllib3<3,>=1.21.1 in /usr/local/lib/python3.11/dist-packages (from requests->huggingface-hub>=0.28.1->gradio) (2.4.0)\n",
      "Requirement already satisfied: intel-cmplr-lib-ur==2024.2.0 in /usr/local/lib/python3.11/dist-packages (from intel-openmp<2026,>=2024->mkl->numpy<3.0,>=1.0->gradio) (2024.2.0)\n",
      "Requirement already satisfied: mdurl~=0.1 in /usr/local/lib/python3.11/dist-packages (from markdown-it-py>=2.2.0->rich>=10.11.0->typer<1.0,>=0.12->gradio) (0.1.2)\n",
      "Downloading gradio-5.35.0-py3-none-any.whl (54.3 MB)\n",
      "\u001b[2K   \u001b[90m━━━━━━━━━━━━━━━━━━━━━━━━━━━━━━━━━━━━━━━━\u001b[0m \u001b[32m54.3/54.3 MB\u001b[0m \u001b[31m31.8 MB/s\u001b[0m eta \u001b[36m0:00:00\u001b[0m:00:01\u001b[0m00:01\u001b[0m\n",
      "\u001b[?25hDownloading gradio_client-1.10.4-py3-none-any.whl (323 kB)\n",
      "\u001b[2K   \u001b[90m━━━━━━━━━━━━━━━━━━━━━━━━━━━━━━━━━━━━━━━━\u001b[0m \u001b[32m323.9/323.9 kB\u001b[0m \u001b[31m14.8 MB/s\u001b[0m eta \u001b[36m0:00:00\u001b[0m\n",
      "\u001b[?25hDownloading fastapi-0.115.14-py3-none-any.whl (95 kB)\n",
      "\u001b[2K   \u001b[90m━━━━━━━━━━━━━━━━━━━━━━━━━━━━━━━━━━━━━━━━\u001b[0m \u001b[32m95.5/95.5 kB\u001b[0m \u001b[31m6.0 MB/s\u001b[0m eta \u001b[36m0:00:00\u001b[0m\n",
      "\u001b[?25hDownloading groovy-0.1.2-py3-none-any.whl (14 kB)\n",
      "Downloading python_multipart-0.0.20-py3-none-any.whl (24 kB)\n",
      "Downloading ruff-0.12.1-py3-none-manylinux_2_17_x86_64.manylinux2014_x86_64.whl (11.6 MB)\n",
      "\u001b[2K   \u001b[90m━━━━━━━━━━━━━━━━━━━━━━━━━━━━━━━━━━━━━━━━\u001b[0m \u001b[32m11.6/11.6 MB\u001b[0m \u001b[31m90.1 MB/s\u001b[0m eta \u001b[36m0:00:00\u001b[0m:00:01\u001b[0m0:01\u001b[0m\n",
      "\u001b[?25hDownloading safehttpx-0.1.6-py3-none-any.whl (8.7 kB)\n",
      "Downloading semantic_version-2.10.0-py2.py3-none-any.whl (15 kB)\n",
      "Downloading starlette-0.46.2-py3-none-any.whl (72 kB)\n",
      "\u001b[2K   \u001b[90m━━━━━━━━━━━━━━━━━━━━━━━━━━━━━━━━━━━━━━━━\u001b[0m \u001b[32m72.0/72.0 kB\u001b[0m \u001b[31m4.7 MB/s\u001b[0m eta \u001b[36m0:00:00\u001b[0m\n",
      "\u001b[?25hDownloading tomlkit-0.13.3-py3-none-any.whl (38 kB)\n",
      "Downloading uvicorn-0.35.0-py3-none-any.whl (66 kB)\n",
      "\u001b[2K   \u001b[90m━━━━━━━━━━━━━━━━━━━━━━━━━━━━━━━━━━━━━━━━\u001b[0m \u001b[32m66.4/66.4 kB\u001b[0m \u001b[31m2.4 MB/s\u001b[0m eta \u001b[36m0:00:00\u001b[0m\n",
      "\u001b[?25hDownloading ffmpy-0.6.0-py3-none-any.whl (5.5 kB)\n",
      "Installing collected packages: uvicorn, tomlkit, semantic-version, ruff, python-multipart, groovy, ffmpy, starlette, safehttpx, gradio-client, fastapi, gradio\n",
      "Successfully installed fastapi-0.115.14 ffmpy-0.6.0 gradio-5.35.0 gradio-client-1.10.4 groovy-0.1.2 python-multipart-0.0.20 ruff-0.12.1 safehttpx-0.1.6 semantic-version-2.10.0 starlette-0.46.2 tomlkit-0.13.3 uvicorn-0.35.0\n",
      "Note: you may need to restart the kernel to use updated packages.\n"
     ]
    }
   ],
   "source": [
    "pip install gradio"
   ]
  },
  {
   "cell_type": "markdown",
   "metadata": {},
   "source": [
    "# Demo"
   ]
  },
  {
   "cell_type": "code",
   "execution_count": null,
   "metadata": {
    "execution": {
     "iopub.execute_input": "2025-07-01T19:39:28.152746Z",
     "iopub.status.busy": "2025-07-01T19:39:28.152487Z",
     "iopub.status.idle": "2025-07-01T19:39:28.235313Z",
     "shell.execute_reply": "2025-07-01T19:39:28.234361Z",
     "shell.execute_reply.started": "2025-07-01T19:39:28.152726Z"
    },
    "trusted": true
   },
   "outputs": [],
   "source": [
    "# # 16. Hàm dự đoán cho một file âm thanh\n",
    "# def predict_single_audio(audio_path, model, scaler, label_to_int, int_to_label, sr=SR, n_mfcc=N_MFCC, max_pad_length=MAX_PAD_LENGTH, device=device):\n",
    "#     # Trích xuất đặc trưng\n",
    "#     features = extract_features(audio_path, sr, n_mfcc, max_pad_length)\n",
    "#     if features is None:\n",
    "#         return \"Error: Could not process audio file.\", None, None, None\n",
    "\n",
    "#     # Chuẩn hóa\n",
    "#     features = scaler.transform(features)\n",
    "    \n",
    "#     # Chuyển đổi sang Tensor và thêm chiều batch, channel\n",
    "#     features_tensor = torch.tensor(features, dtype=torch.float32).unsqueeze(0).unsqueeze(0) # [1, 1, time_steps, total_features]\n",
    "#     features_tensor = features_tensor.to(device)\n",
    "\n",
    "#     # Dự đoán\n",
    "#     model.eval()\n",
    "#     with torch.no_grad():\n",
    "#         outputs = model(features_tensor)\n",
    "#         probabilities = torch.softmax(outputs, dim=1).squeeze().cpu().numpy()\n",
    "        \n",
    "#     predicted_label_idx = np.argmax(probabilities)\n",
    "#     predicted_emotion = int_to_label[predicted_label_idx]\n",
    "\n",
    "#     # Tạo biểu đồ xác suất\n",
    "#     fig = plt.figure(figsize=(8, 4))\n",
    "#     sns.barplot(x=list(int_to_label.values()), y=probabilities, palette='viridis')\n",
    "#     plt.title('Emotion Probabilities')\n",
    "#     plt.xlabel('Emotion')\n",
    "#     plt.ylabel('Probability')\n",
    "#     plt.ylim(0, 1)\n",
    "#     plt.close(fig) # Đóng figure để tránh hiển thị trong notebook, Gradio sẽ dùng nó\n",
    "\n",
    "#     return predicted_emotion, fig, audio_path, probabilities\n",
    "\n",
    "# # Tải lại mô hình đã huấn luyện cho inference\n",
    "# inference_model = CNNBiLSTM(num_classes, total_features, MAX_PAD_LENGTH).to(device)\n",
    "# inference_model.load_state_dict(torch.load(MODEL_SAVE_PATH, map_location=device))\n",
    "# inference_model.eval()\n",
    "# print(f\"Inference model loaded from {MODEL_SAVE_PATH}\")\n",
    "\n",
    "# # 17. Hàm wrapper cho Gradio\n",
    "# import traceback\n",
    "\n",
    "# import tempfile\n",
    "\n",
    "# import tempfile\n",
    "# import os\n",
    "\n",
    "# def gradio_predict(audio_input):\n",
    "#     try:\n",
    "#         if audio_input is None:\n",
    "#             return \"No audio provided.\", None, None\n",
    "\n",
    "#         if isinstance(audio_input, str):  # File upload\n",
    "#             audio_path = audio_input\n",
    "\n",
    "#         elif isinstance(audio_input, tuple):  # Microphone input\n",
    "#             sr_mic, y_mic = audio_input\n",
    "#             print(\"Microphone Input - Sampling rate:\", sr_mic)\n",
    "#             print(\"Microphone Input - Shape:\", y_mic.shape)\n",
    "\n",
    "#             #  Ghi ra thư mục /tmp (được Gradio cho phép)\n",
    "#             with tempfile.NamedTemporaryFile(suffix=\".wav\", delete=False, dir=\"/tmp\") as tmpfile:\n",
    "#                 sf.write(tmpfile.name, y_mic, sr_mic)\n",
    "#                 audio_path = tmpfile.name\n",
    "#                 print(\"Temp audio path:\", audio_path)\n",
    "\n",
    "#         else:\n",
    "#             return \"Invalid audio input format.\", None, None\n",
    "\n",
    "#         # Dự đoán\n",
    "#         predicted_emotion, plot_fig, original_audio_path, probabilities = predict_single_audio(\n",
    "#             audio_path, inference_model, scaler, label_to_int, int_to_label, device=device\n",
    "#         )\n",
    "\n",
    "#         if predicted_emotion.startswith(\"Error\"):\n",
    "#             return predicted_emotion, None, None\n",
    "\n",
    "#         return predicted_emotion, plot_fig, audio_path  #  file trong /tmp được phép trả về\n",
    "\n",
    "#     except Exception as e:\n",
    "#         import traceback\n",
    "#         tb = traceback.format_exc()\n",
    "#         print(\"Exception:\\n\", tb)\n",
    "#         return f\"Exception occurred:\\n{tb}\", None, None\n",
    "\n",
    "#     # Example audio path for Gradio, pick one from the loaded dataset\n",
    "#     # For instance, a RAVDESS file:\n",
    "#     # Get a sample RAVDESS file for the example\n",
    "#     ravdess_sample_file = \"\"\n",
    "#     for path in df['filepath']:\n",
    "#         if \"RAVDESS\" in path: # Check if it's a RAVDESS file\n",
    "#             ravdess_sample_file = path\n",
    "#             break\n",
    "    \n",
    "#     # Or an EMO-DB sample\n",
    "#     emodb_sample_file = \"\"\n",
    "#     for path in df['filepath']:\n",
    "#         if \"emo-db\" in path: # Check if it's an EMO-DB file\n",
    "#             emodb_sample_file = path\n",
    "#             break\n",
    "\n",
    "#     # Or a TESS sample\n",
    "#     tess_sample_file = \"\"\n",
    "#     for path in df['filepath']:\n",
    "#         if \"TESS\" in path: # Check if it's a TESS file\n",
    "#             tess_sample_file = path\n",
    "#             break\n",
    "\n",
    "#         if isinstance(audio_input, tuple):\n",
    "#             return predicted_emotion, plot_fig, None\n",
    "#         else:\n",
    "#             return predicted_emotion, plot_fig, original_audio_path\n",
    "# # 18. Tạo giao diện Gradio\n",
    "# import gradio as gr\n",
    "\n",
    "# # Example files for Gradio interface (adjust paths if needed)\n",
    "# example_files = []\n",
    "# # Add a few example files from the downloaded datasets if they exist\n",
    "# if len(df) > 0:\n",
    "#     # Try to add examples from different datasets if possible\n",
    "#     ravdess_ex = df[df['dataset'] == 'RAVDESS']['filepath'].iloc[0] if not df[df['dataset'] == 'RAVDESS'].empty else None\n",
    "#     emodb_ex = df[df['dataset'] == 'EMO-DB']['filepath'].iloc[0] if not df[df['dataset'] == 'EMO-DB'].empty else None\n",
    "#     tess_ex = df[df['dataset'] == 'TESS']['filepath'].iloc[0] if not df[df['dataset'] == 'TESS'].empty else None\n",
    "    \n",
    "#     if ravdess_ex: example_files.append([ravdess_ex])\n",
    "#     if emodb_ex: example_files.append([emodb_ex])\n",
    "#     if tess_ex: example_files.append([tess_ex])\n",
    "\n",
    "# file_upload_interface = gr.Interface(\n",
    "#     fn=gradio_predict,\n",
    "#     inputs=gr.Audio(type=\"filepath\", label=\"Upload a .wav file\"),\n",
    "#     outputs=[\n",
    "#         gr.Textbox(label=\"Predicted Emotion\"),\n",
    "#         gr.Plot(label=\"Emotion Probabilities\"),\n",
    "#         gr.Audio(label=\"Original Audio Playback\", format=\"wav\")\n",
    "#     ],\n",
    "#     title=\"Speech Emotion Recognition (SER)\",\n",
    "#     description=\"Upload an audio file (.wav) to predict the emotion expressed.\",\n",
    "#     examples=example_files if example_files else None\n",
    "# )\n",
    "\n",
    "\n",
    "# # Kết hợp hai giao diện thành một TabbedInterface\n",
    "# demo = gr.TabbedInterface(\n",
    "#     [file_upload_interface, microphone_interface],\n",
    "#     [\"Upload Audio\", \"Record from Microphone\"]\n",
    "# )\n",
    "\n",
    "# print(\"\\nLaunching Gradio demo...\")\n",
    "# demo.launch(share=True)"
   ]
  },
  {
   "cell_type": "code",
   "execution_count": null,
   "metadata": {
    "trusted": true
   },
   "outputs": [],
   "source": []
  }
 ],
 "metadata": {
  "kaggle": {
   "accelerator": "nvidiaTeslaT4",
   "dataSources": [
    {
     "datasetId": 107620,
     "isSourceIdPinned": false,
     "sourceId": 256618,
     "sourceType": "datasetVersion"
    },
    {
     "datasetId": 316368,
     "isSourceIdPinned": false,
     "sourceId": 639622,
     "sourceType": "datasetVersion"
    },
    {
     "datasetId": 891580,
     "isSourceIdPinned": false,
     "sourceId": 1513028,
     "sourceType": "datasetVersion"
    }
   ],
   "dockerImageVersionId": 31041,
   "isGpuEnabled": true,
   "isInternetEnabled": true,
   "language": "python",
   "sourceType": "notebook"
  },
  "kernelspec": {
   "display_name": "Python 3",
   "language": "python",
   "name": "python3"
  },
  "language_info": {
   "codemirror_mode": {
    "name": "ipython",
    "version": 3
   },
   "file_extension": ".py",
   "mimetype": "text/x-python",
   "name": "python",
   "nbconvert_exporter": "python",
   "pygments_lexer": "ipython3",
   "version": "3.11.0"
  }
 },
 "nbformat": 4,
 "nbformat_minor": 4
}
